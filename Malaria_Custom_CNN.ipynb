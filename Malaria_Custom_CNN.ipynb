{
 "cells": [
  {
   "cell_type": "code",
   "execution_count": 16,
   "metadata": {},
   "outputs": [],
   "source": [
    "import os\n",
    "# import cv2\n",
    "import numpy as np\n",
    "import matplotlib.pyplot as plt\n",
    "from keras.models import Sequential\n",
    "from keras.layers import Flatten, Dense, MaxPooling2D, BatchNormalization, Dropout, Conv2D\n",
    "from keras.preprocessing.image import ImageDataGenerator, load_img, img_to_array\n",
    "from keras.callbacks import EarlyStopping\n",
    "from keras.models import load_model"
   ]
  },
  {
   "cell_type": "code",
   "execution_count": 2,
   "metadata": {},
   "outputs": [],
   "source": [
    "import tensorflow as tf"
   ]
  },
  {
   "cell_type": "code",
   "execution_count": 3,
   "metadata": {},
   "outputs": [],
   "source": [
    "train = ImageDataGenerator(validation_split=0.2)\n",
    "\n",
    "train_path = 'cell_images/'"
   ]
  },
  {
   "cell_type": "code",
   "execution_count": 4,
   "metadata": {},
   "outputs": [
    {
     "name": "stdout",
     "output_type": "stream",
     "text": [
      "Found 22048 images belonging to 2 classes.\n"
     ]
    }
   ],
   "source": [
    "training_data = train.flow_from_directory(train_path,\n",
    "                                          target_size=(150, 150),\n",
    "                                          class_mode='binary',\n",
    "                                          color_mode=\"grayscale\",\n",
    "                                          subset=\"training\")"
   ]
  },
  {
   "cell_type": "code",
   "execution_count": 5,
   "metadata": {},
   "outputs": [
    {
     "name": "stdout",
     "output_type": "stream",
     "text": [
      "Found 5510 images belonging to 2 classes.\n"
     ]
    }
   ],
   "source": [
    "validation_data = train.flow_from_directory(train_path,\n",
    "                                          target_size=(150, 150),\n",
    "                                          class_mode='binary',  \n",
    "                                          color_mode=\"grayscale\",\n",
    "                                          subset=\"validation\")"
   ]
  },
  {
   "cell_type": "code",
   "execution_count": 6,
   "metadata": {},
   "outputs": [
    {
     "data": {
      "text/plain": [
       "{'Parasitized': 0, 'Uninfected': 1}"
      ]
     },
     "execution_count": 6,
     "metadata": {},
     "output_type": "execute_result"
    }
   ],
   "source": [
    "training_data.class_indices"
   ]
  },
  {
   "cell_type": "code",
   "execution_count": 7,
   "metadata": {},
   "outputs": [
    {
     "name": "stdout",
     "output_type": "stream",
     "text": [
      "Metal device set to: Apple M1\n",
      "\n",
      "systemMemory: 16.00 GB\n",
      "maxCacheSize: 5.33 GB\n",
      "\n"
     ]
    },
    {
     "name": "stderr",
     "output_type": "stream",
     "text": [
      "2022-01-07 12:48:53.664289: I tensorflow/core/common_runtime/pluggable_device/pluggable_device_factory.cc:305] Could not identify NUMA node of platform GPU ID 0, defaulting to 0. Your kernel may not have been built with NUMA support.\n",
      "2022-01-07 12:48:53.664467: I tensorflow/core/common_runtime/pluggable_device/pluggable_device_factory.cc:271] Created TensorFlow device (/job:localhost/replica:0/task:0/device:GPU:0 with 0 MB memory) -> physical PluggableDevice (device: 0, name: METAL, pci bus id: <undefined>)\n"
     ]
    }
   ],
   "source": [
    "model = Sequential()"
   ]
  },
  {
   "cell_type": "code",
   "execution_count": 8,
   "metadata": {},
   "outputs": [],
   "source": [
    "model.add(Conv2D(32 , (3,3) , strides = 1 , padding = 'same' , activation = 'relu' , input_shape = (150,150,1)))\n",
    "model.add(BatchNormalization())\n",
    "model.add(MaxPooling2D((2,2) , strides = 2 , padding = 'same'))\n",
    "model.add(Conv2D(64 , (3,3) , strides = 1 , padding = 'same' , activation = 'relu'))\n",
    "model.add(Dropout(0.1))\n",
    "model.add(BatchNormalization())\n",
    "model.add(MaxPooling2D((2,2) , strides = 2 , padding = 'same'))\n",
    "model.add(Conv2D(64 , (3,3) , strides = 1 , padding = 'same' , activation = 'relu'))\n",
    "model.add(BatchNormalization())\n",
    "model.add(MaxPooling2D((2,2) , strides = 2 , padding = 'same'))\n",
    "model.add(Conv2D(128 , (3,3) , strides = 1 , padding = 'same' , activation = 'relu'))\n",
    "model.add(Dropout(0.2))\n",
    "model.add(BatchNormalization())\n",
    "model.add(MaxPooling2D((2,2) , strides = 2 , padding = 'same'))\n",
    "model.add(Conv2D(256 , (3,3) , strides = 1 , padding = 'same' , activation = 'relu'))\n",
    "model.add(Dropout(0.2))\n",
    "model.add(BatchNormalization())\n",
    "model.add(MaxPooling2D((2,2) , strides = 2 , padding = 'same'))\n",
    "model.add(Flatten())\n",
    "model.add(Dense(units = 128 , activation = 'relu'))\n",
    "model.add(Dropout(0.2))\n",
    "model.add(Dense(units = 1 , activation = 'sigmoid'))"
   ]
  },
  {
   "cell_type": "code",
   "execution_count": 9,
   "metadata": {},
   "outputs": [],
   "source": [
    "model.compile(\n",
    "    optimizer=\"adam\",\n",
    "    loss=\"binary_crossentropy\",\n",
    "    metrics=['accuracy']\n",
    ")"
   ]
  },
  {
   "cell_type": "code",
   "execution_count": 10,
   "metadata": {},
   "outputs": [],
   "source": [
    "from keras.callbacks import ReduceLROnPlateau,EarlyStopping,ModelCheckpoint\n",
    "model_checkpoint = ModelCheckpoint('model_weights/malariaDetector_{epoch:02d}-{val_accuracy:.6f}.h5', monitor='val_loss', mode='min', verbose=1, save_best_only=True,save_weights_only=True)"
   ]
  },
  {
   "cell_type": "code",
   "execution_count": 11,
   "metadata": {},
   "outputs": [],
   "source": [
    "early_stopping = tf.keras.callbacks.EarlyStopping(monitor=\"accuracy\",patience=3)\n"
   ]
  },
  {
   "cell_type": "code",
   "execution_count": 12,
   "metadata": {
    "scrolled": true
   },
   "outputs": [
    {
     "name": "stderr",
     "output_type": "stream",
     "text": [
      "/var/folders/4m/_7y4kbtd0l5gjj3fhdysn97c0000gn/T/ipykernel_1581/2236176722.py:1: UserWarning: `Model.fit_generator` is deprecated and will be removed in a future version. Please use `Model.fit`, which supports generators.\n",
      "  history = model.fit_generator(\n",
      "2022-01-07 12:49:05.053445: W tensorflow/core/platform/profile_utils/cpu_utils.cc:128] Failed to get CPU frequency: 0 Hz\n"
     ]
    },
    {
     "name": "stdout",
     "output_type": "stream",
     "text": [
      "Epoch 1/10\n"
     ]
    },
    {
     "name": "stderr",
     "output_type": "stream",
     "text": [
      "2022-01-07 12:49:05.328686: I tensorflow/core/grappler/optimizers/custom_graph_optimizer_registry.cc:112] Plugin optimizer for device_type GPU is enabled.\n"
     ]
    },
    {
     "name": "stdout",
     "output_type": "stream",
     "text": [
      "689/689 [==============================] - ETA: 0s - loss: 0.4650 - accuracy: 0.8080"
     ]
    },
    {
     "name": "stderr",
     "output_type": "stream",
     "text": [
      "2022-01-07 12:50:32.590579: I tensorflow/core/grappler/optimizers/custom_graph_optimizer_registry.cc:112] Plugin optimizer for device_type GPU is enabled.\n"
     ]
    },
    {
     "name": "stdout",
     "output_type": "stream",
     "text": [
      "\n",
      "Epoch 00001: val_loss improved from inf to 0.36178, saving model to model_weights/malariaDetector_01-0.843376.h5\n",
      "689/689 [==============================] - 93s 134ms/step - loss: 0.4650 - accuracy: 0.8080 - val_loss: 0.3618 - val_accuracy: 0.8434\n",
      "Epoch 2/10\n",
      "689/689 [==============================] - ETA: 0s - loss: 0.1664 - accuracy: 0.9471\n",
      "Epoch 00002: val_loss improved from 0.36178 to 0.22988, saving model to model_weights/malariaDetector_02-0.914701.h5\n",
      "689/689 [==============================] - 92s 133ms/step - loss: 0.1664 - accuracy: 0.9471 - val_loss: 0.2299 - val_accuracy: 0.9147\n",
      "Epoch 3/10\n",
      "689/689 [==============================] - ETA: 0s - loss: 0.1416 - accuracy: 0.9549\n",
      "Epoch 00003: val_loss improved from 0.22988 to 0.16229, saving model to model_weights/malariaDetector_03-0.942650.h5\n",
      "689/689 [==============================] - 92s 134ms/step - loss: 0.1416 - accuracy: 0.9549 - val_loss: 0.1623 - val_accuracy: 0.9426\n",
      "Epoch 4/10\n",
      "689/689 [==============================] - ETA: 0s - loss: 0.1307 - accuracy: 0.9582\n",
      "Epoch 00004: val_loss did not improve from 0.16229\n",
      "689/689 [==============================] - 115s 167ms/step - loss: 0.1307 - accuracy: 0.9582 - val_loss: 0.1640 - val_accuracy: 0.9501\n",
      "Epoch 5/10\n",
      "689/689 [==============================] - ETA: 0s - loss: 0.1323 - accuracy: 0.9579\n",
      "Epoch 00005: val_loss improved from 0.16229 to 0.14230, saving model to model_weights/malariaDetector_05-0.950635.h5\n",
      "689/689 [==============================] - 115s 167ms/step - loss: 0.1323 - accuracy: 0.9579 - val_loss: 0.1423 - val_accuracy: 0.9506\n",
      "Epoch 6/10\n",
      "689/689 [==============================] - ETA: 0s - loss: 0.1217 - accuracy: 0.9595\n",
      "Epoch 00006: val_loss did not improve from 0.14230\n",
      "689/689 [==============================] - 99s 144ms/step - loss: 0.1217 - accuracy: 0.9595 - val_loss: 0.2854 - val_accuracy: 0.8956\n",
      "Epoch 7/10\n",
      "689/689 [==============================] - ETA: 0s - loss: 0.1157 - accuracy: 0.9610\n",
      "Epoch 00007: val_loss did not improve from 0.14230\n",
      "689/689 [==============================] - 96s 139ms/step - loss: 0.1157 - accuracy: 0.9610 - val_loss: 0.1646 - val_accuracy: 0.9423\n",
      "Epoch 8/10\n",
      "689/689 [==============================] - ETA: 0s - loss: 0.1095 - accuracy: 0.9630\n",
      "Epoch 00008: val_loss did not improve from 0.14230\n",
      "689/689 [==============================] - 96s 139ms/step - loss: 0.1095 - accuracy: 0.9630 - val_loss: 0.1638 - val_accuracy: 0.9439\n",
      "Epoch 9/10\n",
      "689/689 [==============================] - ETA: 0s - loss: 0.1014 - accuracy: 0.9662\n",
      "Epoch 00009: val_loss did not improve from 0.14230\n",
      "689/689 [==============================] - 95s 138ms/step - loss: 0.1014 - accuracy: 0.9662 - val_loss: 0.1760 - val_accuracy: 0.9339\n",
      "Epoch 10/10\n",
      "689/689 [==============================] - ETA: 0s - loss: 0.0967 - accuracy: 0.9668\n",
      "Epoch 00010: val_loss did not improve from 0.14230\n",
      "689/689 [==============================] - 94s 137ms/step - loss: 0.0967 - accuracy: 0.9668 - val_loss: 0.1633 - val_accuracy: 0.9492\n"
     ]
    }
   ],
   "source": [
    "history = model.fit_generator(\n",
    "        generator=training_data,\n",
    "        epochs=10,\n",
    "        steps_per_epoch=len(training_data),\n",
    "        validation_steps=len(validation_data),\n",
    "        validation_data=validation_data,\n",
    "        callbacks = [early_stopping,model_checkpoint]\n",
    "        )"
   ]
  },
  {
   "cell_type": "code",
   "execution_count": 20,
   "metadata": {},
   "outputs": [
    {
     "data": {
      "image/png": "[encoded data removed]",
      "text/plain": [
       "<Figure size 432x288 with 1 Axes>"
      ]
     },
     "metadata": {
      "needs_background": "light"
     },
     "output_type": "display_data"
    }
   ],
   "source": [
    "plt.plot(history.history['loss'],'r',label='training loss')\n",
    "plt.plot(history.history['val_loss'],label='validation loss')\n",
    "plt.xlabel('# epochs')\n",
    "plt.ylabel('loss')\n",
    "plt.legend()\n",
    "plt.show()"
   ]
  },
  {
   "cell_type": "code",
   "execution_count": 18,
   "metadata": {},
   "outputs": [
    {
     "data": {
      "image/png": "[encoded data removed]",
      "text/plain": [
       "<Figure size 432x288 with 1 Axes>"
      ]
     },
     "metadata": {
      "needs_background": "light"
     },
     "output_type": "display_data"
    }
   ],
   "source": [
    "plt.plot(history.history['accuracy'],'r',label='training accuracy')\n",
    "plt.plot(history.history['val_accuracy'],label='validation accuracy')\n",
    "plt.xlabel('# epochs')\n",
    "plt.ylabel('loss')\n",
    "plt.legend()\n",
    "plt.show()"
   ]
  },
  {
   "cell_type": "code",
   "execution_count": 15,
   "metadata": {},
   "outputs": [],
   "source": [
    "model.save('malaria_model.h5')"
   ]
  },
  {
   "cell_type": "code",
   "execution_count": 24,
   "metadata": {},
   "outputs": [
    {
     "name": "stdout",
     "output_type": "stream",
     "text": [
      "173/173 [==============================] - 7s 37ms/step - loss: 0.1633 - accuracy: 0.9492\n"
     ]
    }
   ],
   "source": [
    "loss0, accuracy0 = model.evaluate(validation_data)"
   ]
  },
  {
   "cell_type": "code",
   "execution_count": null,
   "metadata": {},
   "outputs": [],
   "source": []
  }
 ],
 "metadata": {
  "kernelspec": {
   "display_name": "Python 3",
   "language": "python",
   "name": "python3"
  },
  "language_info": {
   "codemirror_mode": {
    "name": "ipython",
    "version": 3
   },
   "file_extension": ".py",
   "mimetype": "text/x-python",
   "name": "python",
   "nbconvert_exporter": "python",
   "pygments_lexer": "ipython3",
   "version": "3.8.6"
  }
 },
 "nbformat": 4,
 "nbformat_minor": 4
}
