{
 "cells": [
  {
   "cell_type": "markdown",
   "metadata": {},
   "source": [
    "# Imports"
   ]
  },
  {
   "cell_type": "code",
   "execution_count": 1,
   "metadata": {},
   "outputs": [],
   "source": [
    "import os\n",
    "import cv2\n",
    "import tensorflow as tf\n",
    "import numpy as np\n",
    "import matplotlib.pyplot as plt\n",
    "from keras.models import Sequential\n",
    "from keras.layers import Flatten, Dense, MaxPooling2D, BatchNormalization, Dropout, Conv2D\n",
    "from keras.preprocessing.image import ImageDataGenerator, load_img, img_to_array\n",
    "from keras.callbacks import EarlyStopping\n",
    "from keras.models import load_model\n",
    "from tensorflow import keras\n",
    "from keras.layers import Input, Flatten"
   ]
  },
  {
   "cell_type": "markdown",
   "metadata": {},
   "source": [
    "# Data Generator"
   ]
  },
  {
   "cell_type": "code",
   "execution_count": 2,
   "metadata": {},
   "outputs": [],
   "source": [
    "class dataCreator:\n",
    "    def __init__(self,basePath,subPath) -> None:\n",
    "        self.basePath = basePath\n",
    "        self.subPath = subPath\n",
    "        self.subset = []\n",
    "        print(self.basePath,self.subPath)\n",
    "\n",
    "    def listAppend(self):\n",
    "        classes = os.listdir(self.basePath+self.subPath)\n",
    "        # print(classes)\n",
    "\n",
    "        classCounter = 0\n",
    "        for i in classes:\n",
    "            imagePaths = os.listdir(self.basePath+self.subPath+f'/{i}')\n",
    "            temp = []\n",
    "            for image in imagePaths:\n",
    "                temp.append([f\"{classCounter}\",self.basePath+self.subPath+f'/{i}'+f'/{image}'])\n",
    "\n",
    "            classCounter+=1\n",
    "            # print(temp)\n",
    "            self.subset += temp\n",
    "    \n",
    "    def shuffler(self):\n",
    "        np.random.seed(0)\n",
    "        npsubSet = np.array(self.subset)\n",
    "        np.random.shuffle(npsubSet)\n",
    "        return npsubSet"
   ]
  },
  {
   "cell_type": "code",
   "execution_count": 3,
   "metadata": {},
   "outputs": [],
   "source": [
    "os.remove('/Volumes/Windows/BreastCancerDataset/Converted/Testing/.DS_Store')"
   ]
  },
  {
   "cell_type": "code",
   "execution_count": 4,
   "metadata": {},
   "outputs": [
    {
     "name": "stdout",
     "output_type": "stream",
     "text": [
      "/Volumes/Windows/BreastCancerDataset/Converted /Training\n"
     ]
    }
   ],
   "source": [
    "datagen = dataCreator('/Volumes/Windows/BreastCancerDataset/Converted','/Training')\n",
    "datagen.listAppend()\n",
    "trainData = datagen.shuffler()"
   ]
  },
  {
   "cell_type": "code",
   "execution_count": 5,
   "metadata": {},
   "outputs": [
    {
     "name": "stdout",
     "output_type": "stream",
     "text": [
      "/Volumes/Windows/BreastCancerDataset/Converted /Testing\n"
     ]
    }
   ],
   "source": [
    "datagen = dataCreator('/Volumes/Windows/BreastCancerDataset/Converted','/Testing')\n",
    "datagen.listAppend()\n",
    "testData = datagen.shuffler()"
   ]
  },
  {
   "cell_type": "code",
   "execution_count": 6,
   "metadata": {},
   "outputs": [
    {
     "name": "stdout",
     "output_type": "stream",
     "text": [
      "2939 356\n"
     ]
    }
   ],
   "source": [
    "print(len(trainData),len(testData))"
   ]
  },
  {
   "cell_type": "markdown",
   "metadata": {},
   "source": [
    "# Feature Extractor"
   ]
  },
  {
   "cell_type": "code",
   "execution_count": 7,
   "metadata": {},
   "outputs": [],
   "source": [
    "class FeatureExtractor:\n",
    "    def __init__(self,dataset) -> None:\n",
    "        self.base_model = tf.keras.applications.VGG19(input_shape=(150,150,3),\n",
    "                                               include_top=False,\n",
    "                                               weights='imagenet')\n",
    "        self.dataset = dataset       \n",
    "        self.extractedFeatures = []    \n",
    "        self.labels = []            \n",
    "        print(len(dataset))                     \n",
    "                                                       \n",
    "    def preProcessor(self,path):\n",
    "        img = cv2.imread(path)\n",
    "        img = cv2.resize(img,(150,150))\n",
    "        imgx = np.expand_dims(img, axis=0)\n",
    "        return imgx                                        \n",
    "    \n",
    "    def featureExtractor(self,path):\n",
    "        feature = self.base_model(self.preProcessor(path))\n",
    "        flattened = Flatten()(feature)\n",
    "        # print(feature.shape,flattened.shape)\n",
    "        return flattened\n",
    "\n",
    "    def featureArrayCreator(self):\n",
    "        for i in self.dataset:\n",
    "            if i[1].split(\".\")[1]==\"png\":\n",
    "                feature = self.featureExtractor(i[1])\n",
    "                self.extractedFeatures.append(feature.numpy())\n",
    "                self.labels.append(int(i[0]))    \n",
    "        return [np.array(self.labels),np.array(self.extractedFeatures)]        \n",
    "        "
   ]
  },
  {
   "cell_type": "code",
   "execution_count": 8,
   "metadata": {},
   "outputs": [
    {
     "name": "stdout",
     "output_type": "stream",
     "text": [
      "Metal device set to: Apple M1\n",
      "\n",
      "systemMemory: 16.00 GB\n",
      "maxCacheSize: 5.33 GB\n",
      "\n"
     ]
    },
    {
     "name": "stderr",
     "output_type": "stream",
     "text": [
      "2022-01-23 21:29:31.669179: I tensorflow/core/common_runtime/pluggable_device/pluggable_device_factory.cc:305] Could not identify NUMA node of platform GPU ID 0, defaulting to 0. Your kernel may not have been built with NUMA support.\n",
      "2022-01-23 21:29:31.669326: I tensorflow/core/common_runtime/pluggable_device/pluggable_device_factory.cc:271] Created TensorFlow device (/job:localhost/replica:0/task:0/device:GPU:0 with 0 MB memory) -> physical PluggableDevice (device: 0, name: METAL, pci bus id: <undefined>)\n"
     ]
    },
    {
     "name": "stdout",
     "output_type": "stream",
     "text": [
      "2939\n"
     ]
    }
   ],
   "source": [
    "# print(len(trainData))\n",
    "featureCreator = FeatureExtractor(trainData)\n",
    "ytrain,Xtrain = featureCreator.featureArrayCreator()"
   ]
  },
  {
   "cell_type": "code",
   "execution_count": 9,
   "metadata": {},
   "outputs": [
    {
     "name": "stdout",
     "output_type": "stream",
     "text": [
      "356\n"
     ]
    }
   ],
   "source": [
    "featureCreator = FeatureExtractor(testData)\n",
    "ytest,Xtest = featureCreator.featureArrayCreator()"
   ]
  },
  {
   "cell_type": "code",
   "execution_count": 10,
   "metadata": {},
   "outputs": [
    {
     "name": "stdout",
     "output_type": "stream",
     "text": [
      "2936 352\n"
     ]
    }
   ],
   "source": [
    "print(len(Xtrain),len(Xtest))"
   ]
  },
  {
   "cell_type": "code",
   "execution_count": 11,
   "metadata": {},
   "outputs": [
    {
     "data": {
      "text/plain": [
       "(2936, 8192)"
      ]
     },
     "execution_count": 11,
     "metadata": {},
     "output_type": "execute_result"
    }
   ],
   "source": [
    "Xtrain[:,0,:].shape"
   ]
  },
  {
   "cell_type": "markdown",
   "metadata": {},
   "source": [
    "# Predictions"
   ]
  },
  {
   "cell_type": "code",
   "execution_count": 12,
   "metadata": {},
   "outputs": [
    {
     "data": {
      "text/plain": [
       "RandomForestClassifier(n_estimators=500)"
      ]
     },
     "execution_count": 12,
     "metadata": {},
     "output_type": "execute_result"
    }
   ],
   "source": [
    "from sklearn.ensemble import RandomForestClassifier\n",
    "\n",
    "clf = RandomForestClassifier(n_estimators=500)\n",
    "clf.fit(Xtrain[:,0,:],ytrain)"
   ]
  },
  {
   "cell_type": "code",
   "execution_count": 105,
   "metadata": {},
   "outputs": [
    {
     "name": "stderr",
     "output_type": "stream",
     "text": [
      "/Users/anishpawar/miniforge3/envs/tfnew/lib/python3.9/site-packages/xgboost/sklearn.py:1224: UserWarning: The use of label encoder in XGBClassifier is deprecated and will be removed in a future release. To remove this warning, do the following: 1) Pass option use_label_encoder=False when constructing XGBClassifier object; and 2) Encode your labels (y) as integers starting with 0, i.e. 0, 1, 2, ..., [num_class - 1].\n",
      "  warnings.warn(label_encoder_deprecation_msg, UserWarning)\n"
     ]
    },
    {
     "name": "stdout",
     "output_type": "stream",
     "text": [
      "[10:43:17] WARNING: /Users/runner/miniforge3/conda-bld/xgboost-split_1637426411619/work/src/learner.cc:1115: Starting in XGBoost 1.3.0, the default evaluation metric used with the objective 'multi:softprob' was changed from 'merror' to 'mlogloss'. Explicitly set eval_metric if you'd like to restore the old behavior.\n"
     ]
    },
    {
     "data": {
      "text/plain": [
       "XGBClassifier(base_score=0.5, booster='gbtree', colsample_bylevel=1,\n",
       "              colsample_bynode=1, colsample_bytree=1, enable_categorical=False,\n",
       "              gamma=0, gpu_id=-1, importance_type=None,\n",
       "              interaction_constraints='', learning_rate=0.300000012,\n",
       "              max_delta_step=0, max_depth=6, min_child_weight=1, missing=nan,\n",
       "              monotone_constraints='()', n_estimators=100, n_jobs=8,\n",
       "              num_parallel_tree=1, objective='multi:softprob', predictor='auto',\n",
       "              random_state=0, reg_alpha=0, reg_lambda=1, scale_pos_weight=None,\n",
       "              subsample=1, tree_method='exact', validate_parameters=1,\n",
       "              verbosity=None)"
      ]
     },
     "execution_count": 105,
     "metadata": {},
     "output_type": "execute_result"
    }
   ],
   "source": [
    "import xgboost as xgb\n",
    "xg_cls = xgb.XGBClassifier()\n",
    "xg_cls.fit(Xtrain[:,0,:],ytrain)"
   ]
  },
  {
   "cell_type": "code",
   "execution_count": 13,
   "metadata": {},
   "outputs": [
    {
     "name": "stdout",
     "output_type": "stream",
     "text": [
      "1 0\n",
      "1 1\n",
      "0 3\n",
      "2 2\n",
      "1 1\n",
      "2 2\n",
      "3 1\n",
      "1 0\n",
      "0 0\n",
      "3 3\n",
      "1 0\n",
      "1 3\n",
      "2 2\n",
      "3 3\n",
      "1 1\n",
      "2 2\n",
      "1 1\n",
      "0 0\n",
      "1 1\n",
      "2 2\n",
      "3 3\n",
      "2 0\n",
      "2 2\n",
      "2 2\n",
      "3 1\n",
      "0 0\n",
      "0 0\n",
      "0 0\n",
      "1 1\n",
      "0 3\n",
      "2 1\n",
      "1 0\n",
      "0 0\n",
      "1 0\n",
      "3 3\n",
      "2 2\n",
      "2 1\n",
      "2 2\n",
      "1 1\n",
      "0 0\n",
      "2 2\n",
      "2 2\n",
      "2 2\n",
      "2 2\n",
      "0 3\n",
      "1 1\n",
      "0 0\n",
      "0 0\n",
      "1 1\n",
      "3 3\n",
      "2 2\n",
      "2 2\n",
      "2 2\n",
      "2 0\n",
      "2 0\n",
      "2 2\n",
      "2 1\n",
      "2 2\n",
      "3 2\n",
      "1 0\n",
      "2 1\n",
      "2 1\n",
      "0 0\n",
      "2 1\n",
      "2 2\n",
      "2 2\n",
      "1 1\n",
      "1 1\n",
      "2 2\n",
      "0 0\n",
      "3 3\n",
      "2 2\n",
      "2 3\n",
      "1 3\n",
      "1 1\n",
      "0 0\n",
      "3 3\n",
      "1 1\n",
      "0 0\n",
      "3 3\n",
      "3 3\n",
      "3 3\n",
      "2 2\n",
      "2 2\n",
      "1 1\n",
      "0 0\n",
      "2 1\n",
      "1 1\n",
      "1 1\n",
      "1 1\n",
      "2 0\n",
      "2 2\n",
      "0 0\n",
      "1 1\n",
      "2 1\n",
      "2 3\n",
      "2 3\n",
      "0 0\n",
      "2 2\n",
      "3 3\n",
      "3 3\n",
      "2 2\n",
      "1 3\n",
      "1 1\n",
      "2 1\n",
      "2 2\n",
      "1 3\n",
      "1 1\n",
      "2 1\n",
      "3 3\n",
      "1 1\n",
      "2 2\n",
      "1 0\n",
      "2 0\n",
      "1 1\n",
      "0 0\n",
      "2 2\n",
      "2 2\n",
      "0 1\n",
      "3 3\n",
      "2 1\n",
      "2 2\n",
      "1 3\n",
      "2 2\n",
      "2 2\n",
      "2 0\n",
      "0 0\n",
      "3 3\n",
      "0 0\n",
      "2 1\n",
      "2 1\n",
      "2 0\n",
      "3 3\n",
      "3 3\n",
      "1 3\n",
      "2 2\n",
      "2 1\n",
      "1 1\n",
      "2 0\n",
      "3 3\n",
      "1 1\n",
      "0 0\n",
      "1 1\n",
      "3 3\n",
      "3 3\n",
      "2 3\n",
      "1 0\n",
      "2 2\n",
      "2 2\n",
      "0 3\n",
      "1 3\n",
      "2 0\n",
      "2 2\n",
      "1 1\n",
      "3 3\n",
      "1 1\n",
      "0 3\n",
      "3 3\n",
      "2 2\n",
      "3 3\n",
      "0 0\n",
      "2 2\n",
      "2 2\n",
      "2 2\n",
      "2 2\n",
      "0 0\n",
      "2 2\n",
      "1 1\n",
      "1 1\n",
      "1 1\n",
      "1 1\n",
      "2 2\n",
      "2 2\n",
      "0 0\n",
      "2 2\n",
      "1 0\n",
      "3 3\n",
      "0 0\n",
      "2 2\n",
      "0 3\n",
      "3 3\n",
      "2 2\n",
      "2 1\n",
      "2 2\n",
      "3 1\n",
      "0 0\n",
      "2 3\n",
      "1 1\n",
      "2 2\n",
      "2 2\n",
      "0 3\n",
      "1 1\n",
      "2 1\n",
      "1 1\n",
      "3 1\n",
      "0 0\n",
      "2 2\n",
      "3 0\n",
      "1 1\n",
      "3 3\n",
      "1 3\n",
      "1 1\n",
      "3 3\n",
      "2 0\n",
      "2 1\n",
      "2 2\n",
      "0 0\n",
      "0 0\n",
      "2 3\n",
      "1 1\n",
      "2 2\n",
      "1 3\n",
      "2 2\n",
      "3 3\n",
      "1 0\n",
      "1 1\n",
      "2 0\n",
      "1 1\n",
      "3 3\n",
      "0 0\n",
      "2 2\n",
      "1 1\n",
      "0 0\n",
      "2 0\n",
      "0 0\n",
      "2 2\n",
      "2 2\n",
      "3 3\n",
      "2 3\n",
      "2 2\n",
      "0 0\n",
      "3 3\n",
      "2 3\n",
      "2 2\n",
      "3 3\n",
      "2 0\n",
      "1 0\n",
      "0 0\n",
      "0 0\n",
      "1 1\n",
      "2 2\n",
      "0 0\n",
      "0 0\n",
      "2 3\n",
      "0 0\n",
      "1 0\n",
      "0 0\n",
      "2 1\n",
      "0 0\n",
      "1 2\n",
      "1 3\n",
      "2 3\n",
      "1 3\n",
      "3 3\n",
      "2 1\n",
      "2 2\n",
      "1 0\n",
      "3 3\n",
      "1 1\n",
      "2 2\n",
      "0 0\n",
      "0 0\n",
      "1 0\n",
      "0 2\n",
      "3 3\n",
      "0 1\n",
      "2 2\n",
      "2 2\n",
      "1 1\n",
      "2 3\n",
      "1 1\n",
      "3 3\n",
      "3 1\n",
      "0 0\n",
      "0 0\n",
      "2 2\n",
      "1 3\n",
      "2 2\n",
      "1 1\n",
      "1 1\n",
      "2 2\n",
      "1 1\n",
      "3 3\n",
      "3 3\n",
      "2 2\n",
      "2 2\n",
      "0 0\n",
      "1 1\n",
      "0 3\n",
      "0 3\n",
      "2 1\n",
      "0 0\n",
      "3 3\n",
      "2 1\n",
      "2 3\n",
      "1 0\n",
      "2 2\n",
      "3 3\n",
      "1 0\n",
      "3 3\n",
      "3 3\n",
      "0 0\n",
      "1 0\n",
      "3 3\n",
      "1 1\n",
      "0 3\n",
      "0 0\n",
      "2 2\n",
      "1 1\n",
      "2 1\n",
      "2 2\n",
      "2 2\n",
      "1 0\n",
      "1 0\n",
      "1 1\n",
      "2 2\n",
      "3 3\n",
      "3 3\n",
      "1 3\n",
      "2 1\n",
      "1 3\n",
      "0 3\n",
      "3 1\n",
      "3 1\n",
      "2 2\n",
      "2 2\n",
      "2 1\n",
      "2 2\n",
      "3 0\n",
      "2 0\n",
      "1 1\n",
      "2 3\n",
      "1 1\n",
      "2 3\n",
      "0 0\n",
      "2 2\n",
      "3 3\n",
      "3 0\n",
      "0 0\n",
      "0 0\n",
      "2 3\n",
      "2 2\n",
      "3 3\n",
      "2 2\n",
      "2 0\n",
      "2 2\n",
      "2 2\n",
      "3 3\n",
      "2 2\n",
      "1 1\n",
      "2 0\n",
      "3 1\n"
     ]
    }
   ],
   "source": [
    "# from sklearn import metrics\n",
    "\n",
    "score=0\n",
    "\n",
    "for i in range(len(Xtest)):\n",
    "\n",
    "    pred = clf.predict([Xtest[i,0]])\n",
    "\n",
    "    if pred[0]==ytest[i]:\n",
    "        score+=1\n",
    "    print(pred[0],ytest[i])\n",
    "\n",
    "    \n"
   ]
  },
  {
   "cell_type": "code",
   "execution_count": 110,
   "metadata": {},
   "outputs": [
    {
     "data": {
      "text/plain": [
       "29"
      ]
     },
     "execution_count": 110,
     "metadata": {},
     "output_type": "execute_result"
    }
   ],
   "source": [
    "score"
   ]
  },
  {
   "cell_type": "code",
   "execution_count": 14,
   "metadata": {},
   "outputs": [
    {
     "name": "stdout",
     "output_type": "stream",
     "text": [
      "Accuracy:0.6732954545454546\n"
     ]
    }
   ],
   "source": [
    "print(\"Accuracy:{}\".format(score/len(Xtest)))"
   ]
  },
  {
   "cell_type": "markdown",
   "metadata": {},
   "source": [
    "# Ignore"
   ]
  },
  {
   "cell_type": "code",
   "execution_count": 61,
   "metadata": {},
   "outputs": [
    {
     "data": {
      "image/png": "[encoded data removed]",
      "text/plain": [
       "<Figure size 432x288 with 8 Axes>"
      ]
     },
     "metadata": {
      "needs_background": "light"
     },
     "output_type": "display_data"
    }
   ],
   "source": [
    "fig,ax = plt.subplots(2,4)\n",
    "\n",
    "for i in range(0,4):\n",
    "    fig1 = feature.numpy()[0,:,:,i]\n",
    "    ax[0,i].imshow(fig1,cmap='cividis')\n",
    "    # print(i%8,i%4)"
   ]
  },
  {
   "cell_type": "code",
   "execution_count": 16,
   "metadata": {},
   "outputs": [
    {
     "name": "stdout",
     "output_type": "stream",
     "text": [
      "(1536, 2048, 3)\n",
      "(1, 150, 150, 3)\n"
     ]
    },
    {
     "name": "stderr",
     "output_type": "stream",
     "text": [
      "2022-01-22 17:18:44.132638: I tensorflow/core/grappler/optimizers/custom_graph_optimizer_registry.cc:112] Plugin optimizer for device_type GPU is enabled.\n"
     ]
    },
    {
     "name": "stdout",
     "output_type": "stream",
     "text": [
      "(1536, 2048, 3)\n",
      "(1, 150, 150, 3)\n",
      "(1536, 2048, 3)\n",
      "(1, 150, 150, 3)\n",
      "(1536, 2048, 3)\n",
      "(1, 150, 150, 3)\n",
      "(1536, 2048, 3)\n",
      "(1, 150, 150, 3)\n",
      "(1536, 2048, 3)\n",
      "(1, 150, 150, 3)\n",
      "(1536, 2048, 3)\n",
      "(1, 150, 150, 3)\n",
      "(1536, 2048, 3)\n",
      "(1, 150, 150, 3)\n",
      "(1536, 2048, 3)\n",
      "(1, 150, 150, 3)\n",
      "(1536, 2048, 3)\n",
      "(1, 150, 150, 3)\n",
      "(1536, 2048, 3)\n",
      "(1, 150, 150, 3)\n",
      "(1536, 2048, 3)\n",
      "(1, 150, 150, 3)\n",
      "(1536, 2048, 3)\n",
      "(1, 150, 150, 3)\n",
      "(1536, 2048, 3)\n",
      "(1, 150, 150, 3)\n",
      "(1536, 2048, 3)\n",
      "(1, 150, 150, 3)\n",
      "(1536, 2048, 3)\n",
      "(1, 150, 150, 3)\n"
     ]
    },
    {
     "data": {
      "image/png": "[encoded data removed]",
      "text/plain": [
       "<Figure size 432x288 with 16 Axes>"
      ]
     },
     "metadata": {
      "needs_background": "light"
     },
     "output_type": "display_data"
    }
   ],
   "source": [
    "import matplotlib.pyplot as plt\n",
    "from tensorflow.keras import models\n",
    "\n",
    "fig,ax = plt.subplots(4,4)\n",
    "IMG_1 = 0\n",
    "IMG_2 = 3\n",
    "IMG_3 = 100\n",
    "IMG_4 = 7\n",
    "\n",
    "CONVOLUTION_NUMBER = 1\n",
    "layer_outputs = [layer.output for layer in base_model.layers]\n",
    "\n",
    "# print(len(layer_outputs))\n",
    "# Creating Activation Model using inputs and Outputs of original model\n",
    "activation_model = keras.models.Model(inputs=base_model.input,outputs=layer_outputs)\n",
    "\n",
    "# Displaying Convolutions\n",
    "# Because there are 2 Convolution layers and 2 Max Pooling layers\n",
    "for x in range(0,4):\n",
    "  fig_1 = activation_model.predict(preProcessor('/Volumes/MacOS/NRL_Microscopic/Breast_Cancer/ICIAR2018_BACH_Challenge/Photos/Converted/Benign/b001.png'))[-1]\n",
    "  ax[0,x].imshow(fig_1[0,:,:,4],cmap='cividis')\n",
    "  \n",
    "  fig_2 = activation_model.predict(preProcessor('/Volumes/MacOS/NRL_Microscopic/Breast_Cancer/ICIAR2018_BACH_Challenge/Photos/Converted/Benign/b001.png'))[-2]\n",
    "  ax[1,x].imshow(fig_2[0,:,:,4],cmap='cividis')\n",
    "  \n",
    "  fig_3 = activation_model.predict(preProcessor('/Volumes/MacOS/NRL_Microscopic/Breast_Cancer/ICIAR2018_BACH_Challenge/Photos/Converted/Benign/b001.png'))[-3]\n",
    "  ax[2,x].imshow(fig_3[0,:,:,4],cmap='cividis')\n",
    "  \n",
    "  fig_4 = activation_model.predict(preProcessor('/Volumes/MacOS/NRL_Microscopic/Breast_Cancer/ICIAR2018_BACH_Challenge/Photos/Converted/Benign/b001.png'))[-4]\n",
    "  ax[3,x].imshow(fig_4[0,:,:,4],cmap='cividis')"
   ]
  },
  {
   "cell_type": "code",
   "execution_count": null,
   "metadata": {},
   "outputs": [],
   "source": [
    "import matplotlib.pyplot as plt\n",
    "from tensorflow.keras import models\n",
    "\n",
    "fig,ax = plt.subplots(4,4)\n",
    "IMG_1 = 0\n",
    "IMG_2 = 3\n",
    "IMG_3 = 100\n",
    "IMG_4 = 7\n",
    "\n",
    "CONVOLUTION_NUMBER = 1\n",
    "layer_outputs = [layer.output for layer in base_model.layers]\n",
    "\n",
    "# Creating Activation Model using inputs and Outputs of original model\n",
    "activation_model = keras.models.Model(inputs=base_model.input,outputs=layer_outputs)\n",
    "\n",
    "# Displaying Convolutions\n",
    "# Because there are 2 Convolution layers and 2 Max Pooling layers\n",
    "for x in range(0,4):\n",
    "  fig_1 = activation_model.predict(test_images[IMG_1].reshape(1,28,28,1))[x]\n",
    "  ax[0,x].imshow(fig_1[0,:,:,CONVOLUTION_NUMBER],cmap='cividis')\n",
    "  \n",
    "  fig_2 = activation_model.predict(test_images[IMG_2].reshape(1,28,28,1))[x]\n",
    "  ax[1,x].imshow(fig_2[0,:,:,CONVOLUTION_NUMBER],cmap='cividis')\n",
    "  \n",
    "  fig_3 = activation_model.predict(test_images[IMG_3].reshape(1,28,28,1))[x]\n",
    "  ax[2,x].imshow(fig_3[0,:,:,CONVOLUTION_NUMBER],cmap='cividis')\n",
    "  \n",
    "  fig_4 = activation_model.predict(test_images[IMG_4].reshape(1,28,28,1))[x]\n",
    "  ax[3,x].imshow(fig_4[0,:,:,CONVOLUTION_NUMBER],cmap='cividis')"
   ]
  }
 ],
 "metadata": {
  "interpreter": {
   "hash": "1445058ac57253a1482de0bda1c854aeff921ef7b453f188d7ac581de2259b11"
  },
  "kernelspec": {
   "display_name": "Python 3.9.9 64-bit ('tfnew': conda)",
   "language": "python",
   "name": "python3"
  },
  "language_info": {
   "codemirror_mode": {
    "name": "ipython",
    "version": 3
   },
   "file_extension": ".py",
   "mimetype": "text/x-python",
   "name": "python",
   "nbconvert_exporter": "python",
   "pygments_lexer": "ipython3",
   "version": "3.9.9"
  },
  "orig_nbformat": 4
 },
 "nbformat": 4,
 "nbformat_minor": 2
}
