{
 "cells": [
  {
   "cell_type": "code",
   "execution_count": 1,
   "metadata": {},
   "outputs": [],
   "source": [
    "import os\n",
    "import cv2\n",
    "import numpy as np\n",
    "import matplotlib.pyplot as plt\n",
    "%matplotlib inline\n",
    "\n",
    "\n",
    "from keras.models import Sequential\n",
    "from keras.layers import Flatten, Dense, MaxPooling2D, BatchNormalization, Dropout, Conv2D\n",
    "from keras.preprocessing.image import ImageDataGenerator, load_img, img_to_array\n",
    "from keras.callbacks import EarlyStopping\n",
    "from keras.models import load_model"
   ]
  },
  {
   "cell_type": "code",
   "execution_count": 2,
   "metadata": {},
   "outputs": [],
   "source": [
    "train = ImageDataGenerator(validation_split=0.2)\n",
    "\n",
    "train_path = 'Dataset/'"
   ]
  },
  {
   "cell_type": "code",
   "execution_count": 3,
   "metadata": {},
   "outputs": [
    {
     "name": "stdout",
     "output_type": "stream",
     "text": [
      "Found 22048 images belonging to 2 classes.\n"
     ]
    }
   ],
   "source": [
    "training_data = train.flow_from_directory(train_path,\n",
    "                                          target_size=(150, 150),\n",
    "                                          class_mode='binary',\n",
    "                                          color_mode=\"grayscale\",\n",
    "                                          subset=\"training\")"
   ]
  },
  {
   "cell_type": "code",
   "execution_count": 4,
   "metadata": {},
   "outputs": [
    {
     "name": "stdout",
     "output_type": "stream",
     "text": [
      "Found 5510 images belonging to 2 classes.\n"
     ]
    }
   ],
   "source": [
    "validation_data = train.flow_from_directory(train_path,\n",
    "                                          target_size=(150, 150),\n",
    "                                          class_mode='binary',  \n",
    "                                          color_mode=\"grayscale\",\n",
    "                                          subset=\"validation\")"
   ]
  },
  {
   "cell_type": "code",
   "execution_count": 5,
   "metadata": {},
   "outputs": [
    {
     "data": {
      "text/plain": [
       "{'Parasitized': 0, 'Uninfected': 1}"
      ]
     },
     "execution_count": 5,
     "metadata": {},
     "output_type": "execute_result"
    }
   ],
   "source": [
    "training_data.class_indices"
   ]
  },
  {
   "cell_type": "code",
   "execution_count": 6,
   "metadata": {},
   "outputs": [],
   "source": [
    "model = Sequential()"
   ]
  },
  {
   "cell_type": "code",
   "execution_count": 7,
   "metadata": {},
   "outputs": [],
   "source": [
    "model.add(Conv2D(32 , (3,3) , strides = 1 , padding = 'same' , activation = 'relu' , input_shape = (150,150,1)))\n",
    "model.add(BatchNormalization())\n",
    "model.add(MaxPooling2D((2,2) , strides = 2 , padding = 'same'))\n",
    "model.add(Conv2D(64 , (3,3) , strides = 1 , padding = 'same' , activation = 'relu'))\n",
    "model.add(Dropout(0.1))\n",
    "model.add(BatchNormalization())\n",
    "model.add(MaxPooling2D((2,2) , strides = 2 , padding = 'same'))\n",
    "model.add(Conv2D(64 , (3,3) , strides = 1 , padding = 'same' , activation = 'relu'))\n",
    "model.add(BatchNormalization())\n",
    "model.add(MaxPooling2D((2,2) , strides = 2 , padding = 'same'))\n",
    "model.add(Conv2D(128 , (3,3) , strides = 1 , padding = 'same' , activation = 'relu'))\n",
    "model.add(Dropout(0.2))\n",
    "model.add(BatchNormalization())\n",
    "model.add(MaxPooling2D((2,2) , strides = 2 , padding = 'same'))\n",
    "model.add(Conv2D(256 , (3,3) , strides = 1 , padding = 'same' , activation = 'relu'))\n",
    "model.add(Dropout(0.2))\n",
    "model.add(BatchNormalization())\n",
    "model.add(MaxPooling2D((2,2) , strides = 2 , padding = 'same'))\n",
    "model.add(Flatten())\n",
    "model.add(Dense(units = 128 , activation = 'relu'))\n",
    "model.add(Dropout(0.2))\n",
    "model.add(Dense(units = 1 , activation = 'sigmoid'))"
   ]
  },
  {
   "cell_type": "code",
   "execution_count": 8,
   "metadata": {},
   "outputs": [],
   "source": [
    "model.compile(\n",
    "    optimizer=\"adam\",\n",
    "    loss=\"binary_crossentropy\",\n",
    "    metrics=['accuracy']\n",
    ")"
   ]
  },
  {
   "cell_type": "code",
   "execution_count": 9,
   "metadata": {
    "scrolled": true
   },
   "outputs": [
    {
     "name": "stderr",
     "output_type": "stream",
     "text": [
      "/opt/anaconda3/envs/akshit_venv/lib/python3.7/site-packages/tensorflow/python/keras/engine/training.py:1844: UserWarning: `Model.fit_generator` is deprecated and will be removed in a future version. Please use `Model.fit`, which supports generators.\n",
      "  warnings.warn('`Model.fit_generator` is deprecated and '\n"
     ]
    },
    {
     "name": "stdout",
     "output_type": "stream",
     "text": [
      "Epoch 1/20\n",
      "689/689 [==============================] - 1076s 2s/step - loss: 0.7833 - accuracy: 0.7153 - val_loss: 0.2851 - val_accuracy: 0.9116\n",
      "Epoch 2/20\n",
      "689/689 [==============================] - 947s 1s/step - loss: 0.1639 - accuracy: 0.9448 - val_loss: 0.2941 - val_accuracy: 0.9212\n",
      "Epoch 3/20\n",
      "689/689 [==============================] - 938s 1s/step - loss: 0.1384 - accuracy: 0.9568 - val_loss: 0.2838 - val_accuracy: 0.9102\n",
      "Epoch 4/20\n",
      "689/689 [==============================] - 940s 1s/step - loss: 0.1352 - accuracy: 0.9567 - val_loss: 0.2580 - val_accuracy: 0.9143\n",
      "Epoch 5/20\n",
      "689/689 [==============================] - 954s 1s/step - loss: 0.1223 - accuracy: 0.9611 - val_loss: 0.1567 - val_accuracy: 0.9456\n",
      "Epoch 6/20\n",
      "689/689 [==============================] - 951s 1s/step - loss: 0.1186 - accuracy: 0.9609 - val_loss: 0.3548 - val_accuracy: 0.8648\n",
      "Epoch 7/20\n",
      "689/689 [==============================] - 956s 1s/step - loss: 0.1152 - accuracy: 0.9617 - val_loss: 0.5752 - val_accuracy: 0.5642\n",
      "Epoch 8/20\n",
      "689/689 [==============================] - 952s 1s/step - loss: 0.0995 - accuracy: 0.9657 - val_loss: 0.3228 - val_accuracy: 0.8770\n",
      "Epoch 9/20\n",
      "689/689 [==============================] - 952s 1s/step - loss: 0.1021 - accuracy: 0.9657 - val_loss: 0.2046 - val_accuracy: 0.9214\n",
      "Epoch 10/20\n",
      "689/689 [==============================] - 948s 1s/step - loss: 0.0826 - accuracy: 0.9707 - val_loss: 0.1710 - val_accuracy: 0.9457\n",
      "Epoch 11/20\n",
      "689/689 [==============================] - 949s 1s/step - loss: 0.0859 - accuracy: 0.9694 - val_loss: 0.2012 - val_accuracy: 0.9278\n",
      "Epoch 12/20\n",
      "689/689 [==============================] - 953s 1s/step - loss: 0.0759 - accuracy: 0.9732 - val_loss: 0.2135 - val_accuracy: 0.9368\n",
      "Epoch 13/20\n",
      "689/689 [==============================] - 949s 1s/step - loss: 0.0723 - accuracy: 0.9755 - val_loss: 0.1894 - val_accuracy: 0.9452\n",
      "Epoch 14/20\n",
      "689/689 [==============================] - 952s 1s/step - loss: 0.0616 - accuracy: 0.9783 - val_loss: 0.5565 - val_accuracy: 0.8343\n",
      "Epoch 15/20\n",
      "689/689 [==============================] - 955s 1s/step - loss: 0.0621 - accuracy: 0.9772 - val_loss: 0.1802 - val_accuracy: 0.9445\n",
      "Epoch 16/20\n",
      "689/689 [==============================] - 951s 1s/step - loss: 0.0552 - accuracy: 0.9782 - val_loss: 0.3347 - val_accuracy: 0.8833\n",
      "Epoch 17/20\n",
      "689/689 [==============================] - 949s 1s/step - loss: 0.0468 - accuracy: 0.9830 - val_loss: 0.1897 - val_accuracy: 0.9490\n",
      "Epoch 18/20\n",
      "689/689 [==============================] - 956s 1s/step - loss: 0.0446 - accuracy: 0.9841 - val_loss: 0.2218 - val_accuracy: 0.9387\n",
      "Epoch 19/20\n",
      "689/689 [==============================] - 950s 1s/step - loss: 0.0371 - accuracy: 0.9872 - val_loss: 0.1954 - val_accuracy: 0.9399\n",
      "Epoch 20/20\n",
      "689/689 [==============================] - 954s 1s/step - loss: 0.0337 - accuracy: 0.9866 - val_loss: 0.1959 - val_accuracy: 0.9485\n"
     ]
    }
   ],
   "source": [
    "history = model.fit_generator(\n",
    "        generator=training_data,\n",
    "        epochs=20,\n",
    "        steps_per_epoch=len(training_data),\n",
    "        validation_steps=len(validation_data),\n",
    "        validation_data=validation_data\n",
    "        )"
   ]
  },
  {
   "cell_type": "code",
   "execution_count": 10,
   "metadata": {},
   "outputs": [
    {
     "data": {
      "image/png": "[encoded data removed]",
      "text/plain": [
       "<Figure size 432x288 with 1 Axes>"
      ]
     },
     "metadata": {
      "needs_background": "light"
     },
     "output_type": "display_data"
    }
   ],
   "source": [
    "plt.plot(history.history['loss'],'r',label='training loss')\n",
    "plt.plot(history.history['val_loss'],label='validation loss')\n",
    "plt.xlabel('# epochs')\n",
    "plt.ylabel('loss')\n",
    "plt.legend()\n",
    "plt.show()"
   ]
  },
  {
   "cell_type": "code",
   "execution_count": 11,
   "metadata": {},
   "outputs": [
    {
     "data": {
      "image/png": "[encoded data removed]",
      "text/plain": [
       "<Figure size 432x288 with 1 Axes>"
      ]
     },
     "metadata": {
      "needs_background": "light"
     },
     "output_type": "display_data"
    }
   ],
   "source": [
    "plt.plot(history.history['accuracy'],'r',label='training accuracy')\n",
    "plt.plot(history.history['val_accuracy'],label='validation accuracy')\n",
    "plt.xlabel('# epochs')\n",
    "plt.ylabel('loss')\n",
    "plt.legend()\n",
    "plt.show()"
   ]
  },
  {
   "cell_type": "code",
   "execution_count": 12,
   "metadata": {},
   "outputs": [],
   "source": [
    "model.save('malaria_model.h5')"
   ]
  },
  {
   "cell_type": "code",
   "execution_count": null,
   "metadata": {},
   "outputs": [],
   "source": []
  }
 ],
 "metadata": {
  "kernelspec": {
   "display_name": "Python 3",
   "language": "python",
   "name": "python3"
  },
  "language_info": {
   "codemirror_mode": {
    "name": "ipython",
    "version": 3
   },
   "file_extension": ".py",
   "mimetype": "text/x-python",
   "name": "python",
   "nbconvert_exporter": "python",
   "pygments_lexer": "ipython3",
   "version": "3.7.9"
  }
 },
 "nbformat": 4,
 "nbformat_minor": 4
}

