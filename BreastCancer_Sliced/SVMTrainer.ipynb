{
 "cells": [
  {
   "cell_type": "code",
   "execution_count": 15,
   "metadata": {},
   "outputs": [],
   "source": [
    "import json\n",
    "import os\n",
    "import numpy as np\n",
    "from sklearn.svm import SVC\n",
    "from sklearn.metrics import accuracy_score"
   ]
  },
  {
   "cell_type": "code",
   "execution_count": 2,
   "metadata": {},
   "outputs": [],
   "source": [
    "class DataLoader:\n",
    "    def __init__(self,datasetPath,batch,imageSegmentNo) -> None:\n",
    "        self.datasetPath = datasetPath\n",
    "        \n",
    "        self.batchPath = f'{datasetPath}/{batch}'\n",
    "        self.classes = os.listdir(self.batchPath)\n",
    "\n",
    "\n",
    "        self.imageSegmentNo = imageSegmentNo\n",
    "\n",
    "        self.scaledData = []\n",
    "        \n",
    "\n",
    "        self.dataExtractor()\n",
    "        self.shuffler()\n",
    "        \n",
    "\n",
    "    def dataExtractor(self):\n",
    "        for i in range(len(self.classes)):\n",
    "            if len(self.classes[i].split('.'))<=1:\n",
    "\n",
    "                for imgdir in os.listdir(f'{self.batchPath}/{self.classes[i]}'):\n",
    "                    if len(imgdir.split('.'))<=1:\n",
    "                        jsonMetadata = self.jsonDataLoader(f'{self.batchPath}/{self.classes[i]}/{imgdir}/metadata.json')\n",
    "                        \n",
    "\n",
    "                        self.scaledData.append([  self.featureScaler(jsonMetadata['features'][self.imageSegmentNo]), jsonMetadata['classes'][self.imageSegmentNo]])\n",
    "                        # self.y.append()\n",
    "\n",
    "\n",
    "                        \n",
    "\n",
    "\n",
    "    def jsonDataLoader(self,jsonPath):\n",
    "        with open(jsonPath) as jsonfile:\n",
    "            currentData = json.load(jsonfile)\n",
    "            return currentData\n",
    "\n",
    "    def featureScaler(self,feature):\n",
    "\n",
    "        maxVal = max(feature[0])\n",
    "        minVal = min(feature[0])\n",
    "\n",
    "        dezmin = 0\n",
    "        dezmax = 1\n",
    "\n",
    "        scaledFeatures =  []\n",
    "        for i in feature[0]:\n",
    "            scaled = (    (   (i - minVal)/(maxVal-minVal)  ) /   (dezmax-dezmin)    ) + dezmin\n",
    "            scaledFeatures.append(scaled)\n",
    "\n",
    "        return np.array(scaledFeatures)\n",
    "\n",
    "\n",
    "    def shuffler(self):\n",
    "        valData=  np.array(self.scaledData)\n",
    "        np.random.shuffle(valData)\n",
    "        \n",
    "        ListX = []\n",
    "        Listy = []\n",
    "\n",
    "\n",
    "        for i in valData:\n",
    "            ListX.append(i[0])\n",
    "            Listy.append(i[1])\n",
    "\n",
    "        self.X = np.array(ListX)\n",
    "        self.y = np.array(Listy)\n",
    "        \n"
   ]
  },
  {
   "cell_type": "code",
   "execution_count": 19,
   "metadata": {},
   "outputs": [
    {
     "name": "stderr",
     "output_type": "stream",
     "text": [
      "/var/folders/4m/_7y4kbtd0l5gjj3fhdysn97c0000gn/T/ipykernel_15246/3157486618.py:56: VisibleDeprecationWarning: Creating an ndarray from ragged nested sequences (which is a list-or-tuple of lists-or-tuples-or ndarrays with different lengths or shapes) is deprecated. If you meant to do this, you must specify 'dtype=object' when creating the ndarray.\n",
      "  valData=  np.array(self.scaledData)\n"
     ]
    }
   ],
   "source": [
    "valDataComplete = []\n",
    "for i in range(9):\n",
    "    valDataComplete.append(DataLoader('All_200X','val',i))\n"
   ]
  },
  {
   "cell_type": "code",
   "execution_count": 20,
   "metadata": {},
   "outputs": [
    {
     "name": "stderr",
     "output_type": "stream",
     "text": [
      "/var/folders/4m/_7y4kbtd0l5gjj3fhdysn97c0000gn/T/ipykernel_15246/3157486618.py:56: VisibleDeprecationWarning: Creating an ndarray from ragged nested sequences (which is a list-or-tuple of lists-or-tuples-or ndarrays with different lengths or shapes) is deprecated. If you meant to do this, you must specify 'dtype=object' when creating the ndarray.\n",
      "  valData=  np.array(self.scaledData)\n"
     ]
    }
   ],
   "source": [
    "trainDataComplete = []\n",
    "for i in range(9):\n",
    "    trainDataComplete.append(DataLoader('All_200X','train',i))"
   ]
  },
  {
   "cell_type": "code",
   "execution_count": 21,
   "metadata": {},
   "outputs": [
    {
     "name": "stderr",
     "output_type": "stream",
     "text": [
      "/var/folders/4m/_7y4kbtd0l5gjj3fhdysn97c0000gn/T/ipykernel_15246/3157486618.py:56: VisibleDeprecationWarning: Creating an ndarray from ragged nested sequences (which is a list-or-tuple of lists-or-tuples-or ndarrays with different lengths or shapes) is deprecated. If you meant to do this, you must specify 'dtype=object' when creating the ndarray.\n",
      "  valData=  np.array(self.scaledData)\n"
     ]
    }
   ],
   "source": [
    "testDataComplete = []\n",
    "for i in range(9):\n",
    "    testDataComplete.append(DataLoader('All_200X','test',i))"
   ]
  },
  {
   "cell_type": "code",
   "execution_count": 23,
   "metadata": {},
   "outputs": [
    {
     "name": "stdout",
     "output_type": "stream",
     "text": [
      "0.8360655737704918\n",
      "0.8426229508196721\n",
      "0.8426229508196721\n",
      "0.8557377049180328\n",
      "0.8360655737704918\n",
      "0.8557377049180328\n",
      "0.8426229508196721\n",
      "0.8327868852459016\n",
      "0.8426229508196721\n"
     ]
    }
   ],
   "source": [
    "clf1 = SVC(kernel='rbf', C=1)\n",
    "clf1.fit(trainDataComplete[0].X,trainDataComplete[0].y)\n",
    "\n",
    "y_pred1 = clf1.predict(testDataComplete[0].X)\n",
    "print(accuracy_score(testDataComplete[0].y,y_pred1))\n",
    "\n",
    "clf2 = SVC(kernel='rbf', C=1)\n",
    "clf2.fit(trainDataComplete[1].X,trainDataComplete[1].y)\n",
    "\n",
    "y_pred2 = clf2.predict(testDataComplete[1].X)\n",
    "print(accuracy_score(testDataComplete[1].y,y_pred2))\n",
    "\n",
    "clf3 = SVC(kernel='rbf', C=1)\n",
    "clf3.fit(trainDataComplete[2].X,trainDataComplete[2].y)\n",
    "\n",
    "y_pred3 = clf3.predict(testDataComplete[2].X)\n",
    "print(accuracy_score(testDataComplete[2].y,y_pred3))\n",
    "\n",
    "\n",
    "clf4 = SVC(kernel='rbf', C=1)\n",
    "clf4.fit(trainDataComplete[3].X,trainDataComplete[3].y)\n",
    "\n",
    "y_pred4 = clf4.predict(testDataComplete[3].X)\n",
    "print(accuracy_score(testDataComplete[3].y,y_pred4))\n",
    "\n",
    "clf5 = SVC(kernel='rbf', C=1)\n",
    "clf5.fit(trainDataComplete[4].X,trainDataComplete[4].y)\n",
    "\n",
    "y_pred5 = clf5.predict(testDataComplete[4].X)\n",
    "print(accuracy_score(testDataComplete[4].y,y_pred5))\n",
    "\n",
    "\n",
    "clf6 = SVC(kernel='rbf', C=1)\n",
    "clf6.fit(trainDataComplete[5].X,trainDataComplete[5].y)\n",
    "\n",
    "y_pred6 = clf6.predict(testDataComplete[5].X)\n",
    "print(accuracy_score(testDataComplete[5].y,y_pred6))\n",
    "\n",
    "\n",
    "clf7 = SVC(kernel='rbf', C=1)\n",
    "clf7.fit(trainDataComplete[6].X,trainDataComplete[6].y)\n",
    "\n",
    "y_pred7 = clf7.predict(testDataComplete[6].X)\n",
    "print(accuracy_score(testDataComplete[6].y,y_pred7))\n",
    "\n",
    "\n",
    "clf8 = SVC(kernel='rbf', C=1)\n",
    "clf8.fit(trainDataComplete[7].X,trainDataComplete[7].y)\n",
    "\n",
    "y_pred8 = clf8.predict(testDataComplete[7].X)\n",
    "print(accuracy_score(testDataComplete[7].y,y_pred8))\n",
    "\n",
    "\n",
    "clf9 = SVC(kernel='rbf', C=1)\n",
    "clf9.fit(trainDataComplete[8].X,trainDataComplete[8].y)\n",
    "\n",
    "y_pred9 = clf9.predict(testDataComplete[8].X)\n",
    "print(accuracy_score(testDataComplete[8].y,y_pred9))\n",
    "\n"
   ]
  },
  {
   "cell_type": "code",
   "execution_count": null,
   "metadata": {},
   "outputs": [],
   "source": []
  }
 ],
 "metadata": {
  "interpreter": {
   "hash": "59a0a655608065d3cae818a692331e53ebb08743a1f5b6e8817ade25a17588c1"
  },
  "kernelspec": {
   "display_name": "Python 3.9.10 64-bit ('tfworking': conda)",
   "language": "python",
   "name": "python3"
  },
  "language_info": {
   "codemirror_mode": {
    "name": "ipython",
    "version": 3
   },
   "file_extension": ".py",
   "mimetype": "text/x-python",
   "name": "python",
   "nbconvert_exporter": "python",
   "pygments_lexer": "ipython3",
   "version": "3.9.10"
  },
  "orig_nbformat": 4
 },
 "nbformat": 4,
 "nbformat_minor": 2
}
