{
 "cells": [
  {
   "cell_type": "markdown",
   "metadata": {},
   "source": [
    "# Imports"
   ]
  },
  {
   "cell_type": "code",
   "execution_count": 2,
   "metadata": {},
   "outputs": [],
   "source": [
    "import os\n",
    "import cv2\n",
    "import tensorflow as tf\n",
    "import numpy as np\n",
    "import matplotlib.pyplot as plt\n",
    "from keras.layers import Flatten\n",
    "import json\n",
    "\n",
    "from sklearn.svm import SVC\n",
    "from sklearn.metrics import accuracy_score\n",
    "from sklearn.model_selection import GridSearchCV\n",
    "\n"
   ]
  },
  {
   "cell_type": "markdown",
   "metadata": {},
   "source": [
    "# Feature Extractor"
   ]
  },
  {
   "cell_type": "code",
   "execution_count": 3,
   "metadata": {},
   "outputs": [],
   "source": [
    "class dataGenerator:\n",
    "    def __init__(self,basePath,subPath) -> None:\n",
    "        self.basePath = basePath\n",
    "        self.subPath = subPath\n",
    "        self.subset = []\n",
    "        print(self.basePath,self.subPath)\n",
    "\n",
    "        self.listAppend()\n",
    "\n",
    "    def listAppend(self):\n",
    "        classes = os.listdir(self.basePath+self.subPath)\n",
    "        print(classes)\n",
    "\n",
    "        classCounter = 0\n",
    "\n",
    "        for i in classes:\n",
    "            imagePaths = os.listdir(self.basePath+self.subPath+f'/{i}/fullsized')\n",
    "            temp = []\n",
    "            for image in imagePaths:\n",
    "                temp.append([f\"{classCounter}\",self.basePath+self.subPath+ f'/{i}'  '/fullsized' +  f'/{image}'])\n",
    "                # print(image)\n",
    "            classCounter+=1\n",
    "            self.subset += temp\n",
    "    \n",
    "    def shuffler(self):\n",
    "        np.random.seed(0)\n",
    "        npsubSet = np.array(self.subset)\n",
    "        np.random.shuffle(npsubSet)\n",
    "        return npsubSet"
   ]
  },
  {
   "cell_type": "code",
   "execution_count": 6,
   "metadata": {},
   "outputs": [
    {
     "ename": "FileNotFoundError",
     "evalue": "[Errno 2] No such file or directory: 'All_200X/test/.DS_Store'",
     "output_type": "error",
     "traceback": [
      "\u001b[0;31m---------------------------------------------------------------------------\u001b[0m",
      "\u001b[0;31mFileNotFoundError\u001b[0m                         Traceback (most recent call last)",
      "\u001b[0;32m/var/folders/4m/_7y4kbtd0l5gjj3fhdysn97c0000gn/T/ipykernel_7531/2797135976.py\u001b[0m in \u001b[0;36m<module>\u001b[0;34m\u001b[0m\n\u001b[1;32m      1\u001b[0m \u001b[0;31m# os.remove('All_200X/val/.DS_Store')\u001b[0m\u001b[0;34m\u001b[0m\u001b[0;34m\u001b[0m\u001b[0m\n\u001b[1;32m      2\u001b[0m \u001b[0;31m# os.remove('All_200X/train/.DS_Store')\u001b[0m\u001b[0;34m\u001b[0m\u001b[0;34m\u001b[0m\u001b[0m\n\u001b[0;32m----> 3\u001b[0;31m \u001b[0mos\u001b[0m\u001b[0;34m.\u001b[0m\u001b[0mremove\u001b[0m\u001b[0;34m(\u001b[0m\u001b[0;34m'All_200X/test/.DS_Store'\u001b[0m\u001b[0;34m)\u001b[0m\u001b[0;34m\u001b[0m\u001b[0;34m\u001b[0m\u001b[0m\n\u001b[0m",
      "\u001b[0;31mFileNotFoundError\u001b[0m: [Errno 2] No such file or directory: 'All_200X/test/.DS_Store'"
     ]
    }
   ],
   "source": [
    "# os.remove('All_200X/val/.DS_Store')\n",
    "# os.remove('All_200X/train/.DS_Store')\n",
    "os.remove('All_200X/test/.DS_Store')"
   ]
  },
  {
   "cell_type": "code",
   "execution_count": 7,
   "metadata": {},
   "outputs": [
    {
     "name": "stdout",
     "output_type": "stream",
     "text": [
      "All_200X /train\n",
      "['malignant', 'benign']\n",
      "All_200X /test\n",
      "['malignant', 'benign']\n",
      "All_200X /val\n",
      "['malignant', 'benign']\n"
     ]
    }
   ],
   "source": [
    "traindatagen = dataGenerator('All_200X','/train')\n",
    "trainData = traindatagen.shuffler()\n",
    "\n",
    "testdatagen = dataGenerator('All_200X','/test')\n",
    "testData = testdatagen.shuffler()\n",
    "\n",
    "valdatagen = dataGenerator('All_200X','/val')\n",
    "valData = valdatagen.shuffler()"
   ]
  },
  {
   "cell_type": "code",
   "execution_count": 8,
   "metadata": {},
   "outputs": [],
   "source": [
    "class FeatureExtractor:\n",
    "    def __init__(self,dataset) -> None:\n",
    "        self.base_model = tf.keras.applications.VGG19(input_shape=(150,150,3),\n",
    "                                               include_top=False,\n",
    "                                               weights='imagenet')\n",
    "        # print(dataset)\n",
    "        self.dataset = dataset       \n",
    "        self.extractedFeatures = []    \n",
    "        self.imagePaths = []\n",
    "        self.labels = []\n",
    "\n",
    "        for i in dataset:\n",
    "            self.labels.append(int(i[0]))\n",
    "            self.imagePaths.append(i[1])\n",
    "        \n",
    "        self.featureCreator()\n",
    "\n",
    "\n",
    "    def featureCreator(self):\n",
    "        for i in self.imagePaths:\n",
    "            \n",
    "            slicedImages = self.slicer(i)\n",
    "\n",
    "            currentExtractedFeatures = []\n",
    "\n",
    "            for image in slicedImages:\n",
    "                currentExtractedFeatures.append(self.featureExtractor(image).numpy())\n",
    "\n",
    "            self.extractedFeatures.append(currentExtractedFeatures)\n",
    "\n",
    "\n",
    "\n",
    "    def slicer(self,imagePath):\n",
    "        img = plt.imread(imagePath)\n",
    "        h, w = img.shape[:2]\n",
    "        ls = []\n",
    "        for i in range(3):\n",
    "            roi3 = img[:, int(w*i/3): int(w/3) + int(w*i/3)]\n",
    "            # plt.imshow(roi)\n",
    "            for j in range(3):\n",
    "                roi9 = roi3[int(h*j/3): int(h/3) + int(h*j/3), :]\n",
    "                ls.append(roi9)\n",
    "        return ls                    \n",
    "                                                       \n",
    "    def preProcessor(self,img):\n",
    "        img = cv2.resize(img,(150,150))\n",
    "        imgx = np.expand_dims(img, axis=0)\n",
    "        return imgx                                        \n",
    "    \n",
    "    def featureExtractor(self,image):\n",
    "        feature = self.base_model(self.preProcessor(image))\n",
    "        flattened = Flatten()(feature)\n",
    "        # print(feature.shape,flattened.shape)\n",
    "        return flattened"
   ]
  },
  {
   "cell_type": "code",
   "execution_count": 9,
   "metadata": {},
   "outputs": [
    {
     "name": "stdout",
     "output_type": "stream",
     "text": [
      "Metal device set to: Apple M1\n",
      "\n",
      "systemMemory: 16.00 GB\n",
      "maxCacheSize: 5.33 GB\n",
      "\n"
     ]
    },
    {
     "name": "stderr",
     "output_type": "stream",
     "text": [
      "2022-02-05 21:43:52.362135: I tensorflow/core/common_runtime/pluggable_device/pluggable_device_factory.cc:305] Could not identify NUMA node of platform GPU ID 0, defaulting to 0. Your kernel may not have been built with NUMA support.\n",
      "2022-02-05 21:43:52.362312: I tensorflow/core/common_runtime/pluggable_device/pluggable_device_factory.cc:271] Created TensorFlow device (/job:localhost/replica:0/task:0/device:GPU:0 with 0 MB memory) -> physical PluggableDevice (device: 0, name: METAL, pci bus id: <undefined>)\n"
     ]
    }
   ],
   "source": [
    "valFeatures = FeatureExtractor(valData)"
   ]
  },
  {
   "cell_type": "code",
   "execution_count": 10,
   "metadata": {},
   "outputs": [],
   "source": [
    "trainFeatures = FeatureExtractor(trainData)"
   ]
  },
  {
   "cell_type": "code",
   "execution_count": 11,
   "metadata": {},
   "outputs": [],
   "source": [
    "testFeatures = FeatureExtractor(testData)"
   ]
  },
  {
   "cell_type": "markdown",
   "metadata": {},
   "source": [
    "# SVM Training"
   ]
  },
  {
   "cell_type": "code",
   "execution_count": 12,
   "metadata": {},
   "outputs": [],
   "source": [
    "def featureScaler(feature):\n",
    "\n",
    "    maxVal = max(feature)\n",
    "    minVal = min(feature)\n",
    "\n",
    "    dezmin = 0\n",
    "    dezmax = 1\n",
    "\n",
    "    scaledFeatures =  []\n",
    "    for i in feature:\n",
    "        scaled = (    (   (i - minVal)/(maxVal-minVal)  ) /   (dezmax-dezmin)    ) + dezmin\n",
    "        scaledFeatures.append(scaled)\n",
    "\n",
    "    return np.array(scaledFeatures)"
   ]
  },
  {
   "cell_type": "code",
   "execution_count": 13,
   "metadata": {},
   "outputs": [],
   "source": [
    "def SVMDataPreProc(subset):\n",
    "    subset\n",
    "    slicedDataset = []\n",
    "    for j in range(9):\n",
    "            temp = []\n",
    "            for i in subset:\n",
    "                temp.append(featureScaler(i[j][0]))\n",
    "\n",
    "            slicedDataset.append(temp)\n",
    "    return slicedDataset"
   ]
  },
  {
   "cell_type": "code",
   "execution_count": 14,
   "metadata": {},
   "outputs": [],
   "source": [
    "SVMValData = SVMDataPreProc(valFeatures.extractedFeatures)\n",
    "SVMTrainData = SVMDataPreProc(trainFeatures.extractedFeatures)\n",
    "SVMTestData = SVMDataPreProc(testFeatures.extractedFeatures)"
   ]
  },
  {
   "cell_type": "code",
   "execution_count": 15,
   "metadata": {},
   "outputs": [],
   "source": [
    "class multiSVM:\n",
    "    def __init__(self,Xtrain,yTrain,Xtest,yTest) -> None:\n",
    "        self.clfs = []\n",
    "        \n",
    "        self.Xtrain = Xtrain\n",
    "        self.yTrain = yTrain\n",
    "        self.Xtest = Xtest\n",
    "        self.yTest = yTest\n",
    "\n",
    "\n",
    "        self.scores = []\n",
    "\n",
    "    def modelCreator(self):\n",
    "        for i in range(9):\n",
    "            self.clfs.append(SVC(kernel='poly', C=6).fit(self.Xtrain[i],self.yTrain))\n",
    "\n",
    "    def estimator(self):\n",
    "        for i in range(9):\n",
    "            y_preds = self.clfs[i].predict(self.Xtest[i])\n",
    "            self.scores.append(accuracy_score(self.yTest,y_preds))"
   ]
  },
  {
   "cell_type": "code",
   "execution_count": 16,
   "metadata": {},
   "outputs": [],
   "source": [
    "ensembleSVM = multiSVM(SVMTrainData,trainFeatures.labels,SVMTestData,testFeatures.labels)"
   ]
  },
  {
   "cell_type": "code",
   "execution_count": 17,
   "metadata": {},
   "outputs": [],
   "source": [
    "ensembleSVM.modelCreator()"
   ]
  },
  {
   "cell_type": "code",
   "execution_count": 18,
   "metadata": {},
   "outputs": [
    {
     "name": "stdout",
     "output_type": "stream",
     "text": [
      "[0.8481848184818482, 0.8415841584158416, 0.8382838283828383, 0.834983498349835, 0.8085808580858086, 0.8217821782178217, 0.8415841584158416, 0.834983498349835, 0.8448844884488449]\n"
     ]
    }
   ],
   "source": [
    "ensembleSVM.estimator()\n",
    "print(ensembleSVM.scores)"
   ]
  },
  {
   "cell_type": "code",
   "execution_count": 19,
   "metadata": {},
   "outputs": [],
   "source": [
    "class MultiSVMPredictor:\n",
    "    def __init__(self,X,y,classifiers) -> None:\n",
    "        self.X = X\n",
    "        self.y = y\n",
    "        self.classifiers = classifiers\n",
    "        self.preds = []\n",
    "\n",
    "        self.prediction()\n",
    "    \n",
    "    def prediction(self):\n",
    "        for i in range(9):\n",
    "            self.preds.append(self.classifiers[i].predict(self.X[i]))"
   ]
  },
  {
   "cell_type": "code",
   "execution_count": 59,
   "metadata": {},
   "outputs": [],
   "source": [
    "trainEnsemblePredsInitial = MultiSVMPredictor(SVMTrainData,trainFeatures.labels,ensembleSVM.clfs)\n",
    "atrain1 = trainEnsemblePredsInitial.preds[0]\n",
    "atrain2 = trainEnsemblePredsInitial.preds[1]\n",
    "atrain3 = trainEnsemblePredsInitial.preds[2]\n",
    "atrain4 = trainEnsemblePredsInitial.preds[3]\n",
    "atrain5 = trainEnsemblePredsInitial.preds[4]\n",
    "atrain6 = trainEnsemblePredsInitial.preds[5]\n",
    "atrain7 = trainEnsemblePredsInitial.preds[6]\n",
    "atrain8 = trainEnsemblePredsInitial.preds[7]\n",
    "atrain9 = trainEnsemblePredsInitial.preds[8]\n",
    "\n",
    "\n",
    "trainEnsemblePreds = []\n",
    "for i in range(len(atrain1)):\n",
    "    trainEnsemblePreds.append(np.array([atrain1[i],atrain2[i],atrain3[i],atrain4[i],atrain5[i],atrain6[i],atrain7[i],atrain8[i],atrain9[i]]))"
   ]
  },
  {
   "cell_type": "code",
   "execution_count": 54,
   "metadata": {},
   "outputs": [],
   "source": [
    "testEnsemblePredsInitial = MultiSVMPredictor(SVMTestData,testFeatures.labels,ensembleSVM.clfs)\n",
    "atest1 = testEnsemblePredsInitial.preds[0]\n",
    "atest2 = testEnsemblePredsInitial.preds[1]\n",
    "atest3 = testEnsemblePredsInitial.preds[2]\n",
    "atest4 = testEnsemblePredsInitial.preds[3]\n",
    "atest5 = testEnsemblePredsInitial.preds[4]\n",
    "atest6 = testEnsemblePredsInitial.preds[5]\n",
    "atest7 = testEnsemblePredsInitial.preds[6]\n",
    "atest8 = testEnsemblePredsInitial.preds[7]\n",
    "atest9 = testEnsemblePredsInitial.preds[8]\n",
    "\n",
    "\n",
    "testEnsemblePreds = []\n",
    "for i in range(len(atest1)):\n",
    "    testEnsemblePreds.append(np.array([atest1[i],atest2[i],atest3[i],atest4[i],atest5[i],atest6[i],atest7[i],atest8[i],atest9[i]]))"
   ]
  },
  {
   "cell_type": "code",
   "execution_count": 77,
   "metadata": {},
   "outputs": [],
   "source": [
    "valEnsemblePredsInitial = MultiSVMPredictor(SVMValData,valFeatures.labels,ensembleSVM.clfs)\n",
    "aval1 = valEnsemblePredsInitial.preds[0]\n",
    "aval2 = valEnsemblePredsInitial.preds[1]\n",
    "aval3 = valEnsemblePredsInitial.preds[2]\n",
    "aval4 = valEnsemblePredsInitial.preds[3]\n",
    "aval5 = valEnsemblePredsInitial.preds[4]\n",
    "aval6 = valEnsemblePredsInitial.preds[5]\n",
    "aval7 = valEnsemblePredsInitial.preds[6]\n",
    "aval8 = valEnsemblePredsInitial.preds[7]\n",
    "aval9 = valEnsemblePredsInitial.preds[8]\n",
    "\n",
    "\n",
    "valEnsemblePreds = []\n",
    "for i in range(len(aval1)):\n",
    "    valEnsemblePreds.append(np.array([aval1[i],aval2[i],aval3[i],aval4[i],aval5[i],aval6[i],aval7[i],aval8[i],aval9[i]]))"
   ]
  },
  {
   "cell_type": "code",
   "execution_count": 78,
   "metadata": {},
   "outputs": [
    {
     "name": "stdout",
     "output_type": "stream",
     "text": [
      "302 302\n"
     ]
    }
   ],
   "source": [
    "print(len(valEnsemblePreds),len(valFeatures.labels))"
   ]
  },
  {
   "cell_type": "code",
   "execution_count": 55,
   "metadata": {},
   "outputs": [
    {
     "name": "stdout",
     "output_type": "stream",
     "text": [
      "303 303\n"
     ]
    }
   ],
   "source": [
    "print(len(testEnsemblePreds),len(testFeatures.labels))"
   ]
  },
  {
   "cell_type": "code",
   "execution_count": 60,
   "metadata": {},
   "outputs": [
    {
     "name": "stdout",
     "output_type": "stream",
     "text": [
      "1408 1408\n"
     ]
    }
   ],
   "source": [
    "print(len(trainEnsemblePreds),len(trainFeatures.labels))"
   ]
  },
  {
   "cell_type": "markdown",
   "metadata": {},
   "source": [
    "# SVM Predictor"
   ]
  },
  {
   "cell_type": "code",
   "execution_count": 71,
   "metadata": {},
   "outputs": [
    {
     "name": "stdout",
     "output_type": "stream",
     "text": [
      "Fitting 5 folds for each of 40 candidates, totalling 200 fits\n",
      "[CV 1/5] END ........C=1, degree=1, kernel=poly;, score=0.982 total time=   0.0s\n",
      "[CV 2/5] END ........C=1, degree=1, kernel=poly;, score=0.979 total time=   0.0s\n",
      "[CV 3/5] END ........C=1, degree=1, kernel=poly;, score=0.972 total time=   0.0s\n",
      "[CV 4/5] END ........C=1, degree=1, kernel=poly;, score=0.975 total time=   0.0s\n",
      "[CV 5/5] END ........C=1, degree=1, kernel=poly;, score=0.975 total time=   0.0s\n",
      "[CV 1/5] END ........C=1, degree=2, kernel=poly;, score=0.979 total time=   0.0s\n",
      "[CV 2/5] END ........C=1, degree=2, kernel=poly;, score=0.968 total time=   0.0s\n",
      "[CV 3/5] END ........C=1, degree=2, kernel=poly;, score=0.965 total time=   0.0s\n",
      "[CV 4/5] END ........C=1, degree=2, kernel=poly;, score=0.975 total time=   0.0s\n",
      "[CV 5/5] END ........C=1, degree=2, kernel=poly;, score=0.964 total time=   0.0s\n",
      "[CV 1/5] END ........C=1, degree=3, kernel=poly;, score=0.975 total time=   0.0s\n",
      "[CV 2/5] END ........C=1, degree=3, kernel=poly;, score=0.982 total time=   0.0s\n",
      "[CV 3/5] END ........C=1, degree=3, kernel=poly;, score=0.950 total time=   0.0s\n",
      "[CV 4/5] END ........C=1, degree=3, kernel=poly;, score=0.979 total time=   0.0s\n",
      "[CV 5/5] END ........C=1, degree=3, kernel=poly;, score=0.968 total time=   0.0s\n",
      "[CV 1/5] END ........C=1, degree=4, kernel=poly;, score=0.979 total time=   0.0s\n",
      "[CV 2/5] END ........C=1, degree=4, kernel=poly;, score=0.975 total time=   0.0s\n",
      "[CV 3/5] END ........C=1, degree=4, kernel=poly;, score=0.954 total time=   0.0s\n",
      "[CV 4/5] END ........C=1, degree=4, kernel=poly;, score=0.964 total time=   0.0s\n",
      "[CV 5/5] END ........C=1, degree=4, kernel=poly;, score=0.964 total time=   0.0s\n",
      "[CV 1/5] END ........C=1, degree=5, kernel=poly;, score=0.972 total time=   0.0s\n",
      "[CV 2/5] END ........C=1, degree=5, kernel=poly;, score=0.965 total time=   0.0s\n",
      "[CV 3/5] END ........C=1, degree=5, kernel=poly;, score=0.950 total time=   0.0s\n",
      "[CV 4/5] END ........C=1, degree=5, kernel=poly;, score=0.961 total time=   0.0s\n",
      "[CV 5/5] END ........C=1, degree=5, kernel=poly;, score=0.964 total time=   0.0s\n",
      "[CV 1/5] END ........C=1, degree=6, kernel=poly;, score=0.975 total time=   0.0s\n",
      "[CV 2/5] END ........C=1, degree=6, kernel=poly;, score=0.965 total time=   0.0s\n",
      "[CV 3/5] END ........C=1, degree=6, kernel=poly;, score=0.950 total time=   0.0s\n",
      "[CV 4/5] END ........C=1, degree=6, kernel=poly;, score=0.961 total time=   0.0s\n",
      "[CV 5/5] END ........C=1, degree=6, kernel=poly;, score=0.964 total time=   0.0s\n",
      "[CV 1/5] END ........C=1, degree=7, kernel=poly;, score=0.972 total time=   0.0s\n",
      "[CV 2/5] END ........C=1, degree=7, kernel=poly;, score=0.965 total time=   0.0s\n",
      "[CV 3/5] END ........C=1, degree=7, kernel=poly;, score=0.947 total time=   0.0s\n",
      "[CV 4/5] END ........C=1, degree=7, kernel=poly;, score=0.961 total time=   0.0s\n",
      "[CV 5/5] END ........C=1, degree=7, kernel=poly;, score=0.964 total time=   0.0s\n",
      "[CV 1/5] END ........C=1, degree=8, kernel=poly;, score=0.972 total time=   0.0s\n",
      "[CV 2/5] END ........C=1, degree=8, kernel=poly;, score=0.965 total time=   0.0s\n",
      "[CV 3/5] END ........C=1, degree=8, kernel=poly;, score=0.947 total time=   0.0s\n",
      "[CV 4/5] END ........C=1, degree=8, kernel=poly;, score=0.961 total time=   0.0s\n",
      "[CV 5/5] END ........C=1, degree=8, kernel=poly;, score=0.961 total time=   0.0s\n",
      "[CV 1/5] END ........C=1, degree=9, kernel=poly;, score=0.972 total time=   0.0s\n",
      "[CV 2/5] END ........C=1, degree=9, kernel=poly;, score=0.965 total time=   0.0s\n",
      "[CV 3/5] END ........C=1, degree=9, kernel=poly;, score=0.947 total time=   0.0s\n",
      "[CV 4/5] END ........C=1, degree=9, kernel=poly;, score=0.961 total time=   0.0s\n",
      "[CV 5/5] END ........C=1, degree=9, kernel=poly;, score=0.961 total time=   0.0s\n",
      "[CV 1/5] END .......C=1, degree=10, kernel=poly;, score=0.972 total time=   0.0s\n",
      "[CV 2/5] END .......C=1, degree=10, kernel=poly;, score=0.965 total time=   0.0s\n",
      "[CV 3/5] END .......C=1, degree=10, kernel=poly;, score=0.947 total time=   0.0s\n",
      "[CV 4/5] END .......C=1, degree=10, kernel=poly;, score=0.961 total time=   0.0s\n",
      "[CV 5/5] END .......C=1, degree=10, kernel=poly;, score=0.961 total time=   0.0s\n",
      "[CV 1/5] END .......C=10, degree=1, kernel=poly;, score=0.982 total time=   0.0s\n",
      "[CV 2/5] END .......C=10, degree=1, kernel=poly;, score=0.979 total time=   0.0s\n",
      "[CV 3/5] END .......C=10, degree=1, kernel=poly;, score=0.965 total time=   0.0s\n",
      "[CV 4/5] END .......C=10, degree=1, kernel=poly;, score=0.975 total time=   0.0s\n",
      "[CV 5/5] END .......C=10, degree=1, kernel=poly;, score=0.975 total time=   0.0s\n",
      "[CV 1/5] END .......C=10, degree=2, kernel=poly;, score=0.979 total time=   0.0s\n",
      "[CV 2/5] END .......C=10, degree=2, kernel=poly;, score=0.975 total time=   0.0s\n",
      "[CV 3/5] END .......C=10, degree=2, kernel=poly;, score=0.947 total time=   0.0s\n",
      "[CV 4/5] END .......C=10, degree=2, kernel=poly;, score=0.964 total time=   0.0s\n",
      "[CV 5/5] END .......C=10, degree=2, kernel=poly;, score=0.961 total time=   0.0s\n",
      "[CV 1/5] END .......C=10, degree=3, kernel=poly;, score=0.975 total time=   0.0s\n",
      "[CV 2/5] END .......C=10, degree=3, kernel=poly;, score=0.972 total time=   0.0s\n",
      "[CV 3/5] END .......C=10, degree=3, kernel=poly;, score=0.947 total time=   0.0s\n",
      "[CV 4/5] END .......C=10, degree=3, kernel=poly;, score=0.975 total time=   0.0s\n",
      "[CV 5/5] END .......C=10, degree=3, kernel=poly;, score=0.968 total time=   0.0s\n",
      "[CV 1/5] END .......C=10, degree=4, kernel=poly;, score=0.979 total time=   0.0s\n",
      "[CV 2/5] END .......C=10, degree=4, kernel=poly;, score=0.965 total time=   0.0s\n",
      "[CV 3/5] END .......C=10, degree=4, kernel=poly;, score=0.943 total time=   0.0s\n",
      "[CV 4/5] END .......C=10, degree=4, kernel=poly;, score=0.964 total time=   0.0s\n",
      "[CV 5/5] END .......C=10, degree=4, kernel=poly;, score=0.964 total time=   0.0s\n",
      "[CV 1/5] END .......C=10, degree=5, kernel=poly;, score=0.972 total time=   0.0s\n",
      "[CV 2/5] END .......C=10, degree=5, kernel=poly;, score=0.965 total time=   0.0s\n",
      "[CV 3/5] END .......C=10, degree=5, kernel=poly;, score=0.947 total time=   0.0s\n",
      "[CV 4/5] END .......C=10, degree=5, kernel=poly;, score=0.961 total time=   0.0s\n",
      "[CV 5/5] END .......C=10, degree=5, kernel=poly;, score=0.964 total time=   0.0s\n",
      "[CV 1/5] END .......C=10, degree=6, kernel=poly;, score=0.972 total time=   0.0s\n",
      "[CV 2/5] END .......C=10, degree=6, kernel=poly;, score=0.965 total time=   0.0s\n",
      "[CV 3/5] END .......C=10, degree=6, kernel=poly;, score=0.947 total time=   0.0s\n",
      "[CV 4/5] END .......C=10, degree=6, kernel=poly;, score=0.961 total time=   0.0s\n",
      "[CV 5/5] END .......C=10, degree=6, kernel=poly;, score=0.964 total time=   0.0s\n",
      "[CV 1/5] END .......C=10, degree=7, kernel=poly;, score=0.972 total time=   0.0s\n",
      "[CV 2/5] END .......C=10, degree=7, kernel=poly;, score=0.965 total time=   0.0s\n",
      "[CV 3/5] END .......C=10, degree=7, kernel=poly;, score=0.947 total time=   0.0s\n",
      "[CV 4/5] END .......C=10, degree=7, kernel=poly;, score=0.961 total time=   0.0s\n",
      "[CV 5/5] END .......C=10, degree=7, kernel=poly;, score=0.964 total time=   0.0s\n",
      "[CV 1/5] END .......C=10, degree=8, kernel=poly;, score=0.972 total time=   0.0s\n",
      "[CV 2/5] END .......C=10, degree=8, kernel=poly;, score=0.965 total time=   0.0s\n",
      "[CV 3/5] END .......C=10, degree=8, kernel=poly;, score=0.947 total time=   0.0s\n",
      "[CV 4/5] END .......C=10, degree=8, kernel=poly;, score=0.961 total time=   0.0s\n",
      "[CV 5/5] END .......C=10, degree=8, kernel=poly;, score=0.961 total time=   0.0s\n",
      "[CV 1/5] END .......C=10, degree=9, kernel=poly;, score=0.972 total time=   0.0s\n",
      "[CV 2/5] END .......C=10, degree=9, kernel=poly;, score=0.965 total time=   0.0s\n",
      "[CV 3/5] END .......C=10, degree=9, kernel=poly;, score=0.947 total time=   0.0s\n",
      "[CV 4/5] END .......C=10, degree=9, kernel=poly;, score=0.961 total time=   0.0s\n",
      "[CV 5/5] END .......C=10, degree=9, kernel=poly;, score=0.961 total time=   0.0s\n",
      "[CV 1/5] END ......C=10, degree=10, kernel=poly;, score=0.972 total time=   0.0s\n",
      "[CV 2/5] END ......C=10, degree=10, kernel=poly;, score=0.965 total time=   0.0s\n",
      "[CV 3/5] END ......C=10, degree=10, kernel=poly;, score=0.947 total time=   0.0s\n",
      "[CV 4/5] END ......C=10, degree=10, kernel=poly;, score=0.961 total time=   0.0s\n",
      "[CV 5/5] END ......C=10, degree=10, kernel=poly;, score=0.961 total time=   0.0s\n",
      "[CV 1/5] END ......C=100, degree=1, kernel=poly;, score=0.982 total time=   0.0s\n",
      "[CV 2/5] END ......C=100, degree=1, kernel=poly;, score=0.979 total time=   0.0s\n",
      "[CV 3/5] END ......C=100, degree=1, kernel=poly;, score=0.968 total time=   0.0s\n",
      "[CV 4/5] END ......C=100, degree=1, kernel=poly;, score=0.975 total time=   0.0s\n",
      "[CV 5/5] END ......C=100, degree=1, kernel=poly;, score=0.975 total time=   0.0s\n",
      "[CV 1/5] END ......C=100, degree=2, kernel=poly;, score=0.982 total time=   0.0s\n",
      "[CV 2/5] END ......C=100, degree=2, kernel=poly;, score=0.982 total time=   0.0s\n",
      "[CV 3/5] END ......C=100, degree=2, kernel=poly;, score=0.947 total time=   0.0s\n",
      "[CV 4/5] END ......C=100, degree=2, kernel=poly;, score=0.968 total time=   0.0s\n",
      "[CV 5/5] END ......C=100, degree=2, kernel=poly;, score=0.957 total time=   0.0s\n",
      "[CV 1/5] END ......C=100, degree=3, kernel=poly;, score=0.975 total time=   0.0s\n",
      "[CV 2/5] END ......C=100, degree=3, kernel=poly;, score=0.972 total time=   0.0s\n",
      "[CV 3/5] END ......C=100, degree=3, kernel=poly;, score=0.947 total time=   0.0s\n",
      "[CV 4/5] END ......C=100, degree=3, kernel=poly;, score=0.975 total time=   0.0s\n",
      "[CV 5/5] END ......C=100, degree=3, kernel=poly;, score=0.968 total time=   0.0s\n",
      "[CV 1/5] END ......C=100, degree=4, kernel=poly;, score=0.979 total time=   0.0s\n",
      "[CV 2/5] END ......C=100, degree=4, kernel=poly;, score=0.965 total time=   0.0s\n",
      "[CV 3/5] END ......C=100, degree=4, kernel=poly;, score=0.943 total time=   0.0s\n",
      "[CV 4/5] END ......C=100, degree=4, kernel=poly;, score=0.961 total time=   0.0s\n",
      "[CV 5/5] END ......C=100, degree=4, kernel=poly;, score=0.964 total time=   0.0s\n",
      "[CV 1/5] END ......C=100, degree=5, kernel=poly;, score=0.972 total time=   0.0s\n",
      "[CV 2/5] END ......C=100, degree=5, kernel=poly;, score=0.965 total time=   0.0s\n",
      "[CV 3/5] END ......C=100, degree=5, kernel=poly;, score=0.943 total time=   0.0s\n",
      "[CV 4/5] END ......C=100, degree=5, kernel=poly;, score=0.961 total time=   0.0s\n",
      "[CV 5/5] END ......C=100, degree=5, kernel=poly;, score=0.964 total time=   0.0s\n",
      "[CV 1/5] END ......C=100, degree=6, kernel=poly;, score=0.972 total time=   0.0s\n",
      "[CV 2/5] END ......C=100, degree=6, kernel=poly;, score=0.965 total time=   0.0s\n",
      "[CV 3/5] END ......C=100, degree=6, kernel=poly;, score=0.943 total time=   0.0s\n",
      "[CV 4/5] END ......C=100, degree=6, kernel=poly;, score=0.957 total time=   0.0s\n",
      "[CV 5/5] END ......C=100, degree=6, kernel=poly;, score=0.964 total time=   0.0s\n",
      "[CV 1/5] END ......C=100, degree=7, kernel=poly;, score=0.972 total time=   0.0s\n",
      "[CV 2/5] END ......C=100, degree=7, kernel=poly;, score=0.965 total time=   0.0s\n",
      "[CV 3/5] END ......C=100, degree=7, kernel=poly;, score=0.943 total time=   0.0s\n",
      "[CV 4/5] END ......C=100, degree=7, kernel=poly;, score=0.957 total time=   0.0s\n",
      "[CV 5/5] END ......C=100, degree=7, kernel=poly;, score=0.964 total time=   0.0s\n",
      "[CV 1/5] END ......C=100, degree=8, kernel=poly;, score=0.972 total time=   0.0s\n",
      "[CV 2/5] END ......C=100, degree=8, kernel=poly;, score=0.965 total time=   0.0s\n",
      "[CV 3/5] END ......C=100, degree=8, kernel=poly;, score=0.947 total time=   0.0s\n",
      "[CV 4/5] END ......C=100, degree=8, kernel=poly;, score=0.961 total time=   0.0s\n",
      "[CV 5/5] END ......C=100, degree=8, kernel=poly;, score=0.961 total time=   0.0s\n",
      "[CV 1/5] END ......C=100, degree=9, kernel=poly;, score=0.972 total time=   0.0s\n",
      "[CV 2/5] END ......C=100, degree=9, kernel=poly;, score=0.965 total time=   0.0s\n",
      "[CV 3/5] END ......C=100, degree=9, kernel=poly;, score=0.947 total time=   0.0s\n",
      "[CV 4/5] END ......C=100, degree=9, kernel=poly;, score=0.961 total time=   0.0s\n",
      "[CV 5/5] END ......C=100, degree=9, kernel=poly;, score=0.961 total time=   0.0s\n",
      "[CV 1/5] END .....C=100, degree=10, kernel=poly;, score=0.972 total time=   0.0s\n",
      "[CV 2/5] END .....C=100, degree=10, kernel=poly;, score=0.965 total time=   0.0s\n",
      "[CV 3/5] END .....C=100, degree=10, kernel=poly;, score=0.947 total time=   0.0s\n",
      "[CV 4/5] END .....C=100, degree=10, kernel=poly;, score=0.961 total time=   0.0s\n",
      "[CV 5/5] END .....C=100, degree=10, kernel=poly;, score=0.961 total time=   0.0s\n",
      "[CV 1/5] END .....C=1000, degree=1, kernel=poly;, score=0.975 total time=   0.0s\n",
      "[CV 2/5] END .....C=1000, degree=1, kernel=poly;, score=0.979 total time=   0.0s\n",
      "[CV 3/5] END .....C=1000, degree=1, kernel=poly;, score=0.968 total time=   0.0s\n",
      "[CV 4/5] END .....C=1000, degree=1, kernel=poly;, score=0.975 total time=   0.0s\n",
      "[CV 5/5] END .....C=1000, degree=1, kernel=poly;, score=0.975 total time=   0.0s\n",
      "[CV 1/5] END .....C=1000, degree=2, kernel=poly;, score=0.972 total time=   0.1s\n",
      "[CV 2/5] END .....C=1000, degree=2, kernel=poly;, score=0.979 total time=   0.1s\n",
      "[CV 3/5] END .....C=1000, degree=2, kernel=poly;, score=0.943 total time=   0.0s\n",
      "[CV 4/5] END .....C=1000, degree=2, kernel=poly;, score=0.961 total time=   0.1s\n",
      "[CV 5/5] END .....C=1000, degree=2, kernel=poly;, score=0.954 total time=   0.0s\n",
      "[CV 1/5] END .....C=1000, degree=3, kernel=poly;, score=0.975 total time=   0.0s\n",
      "[CV 2/5] END .....C=1000, degree=3, kernel=poly;, score=0.972 total time=   0.0s\n",
      "[CV 3/5] END .....C=1000, degree=3, kernel=poly;, score=0.947 total time=   0.0s\n",
      "[CV 4/5] END .....C=1000, degree=3, kernel=poly;, score=0.975 total time=   0.0s\n",
      "[CV 5/5] END .....C=1000, degree=3, kernel=poly;, score=0.968 total time=   0.0s\n",
      "[CV 1/5] END .....C=1000, degree=4, kernel=poly;, score=0.979 total time=   0.0s\n",
      "[CV 2/5] END .....C=1000, degree=4, kernel=poly;, score=0.965 total time=   0.0s\n",
      "[CV 3/5] END .....C=1000, degree=4, kernel=poly;, score=0.943 total time=   0.0s\n",
      "[CV 4/5] END .....C=1000, degree=4, kernel=poly;, score=0.961 total time=   0.0s\n",
      "[CV 5/5] END .....C=1000, degree=4, kernel=poly;, score=0.964 total time=   0.0s\n",
      "[CV 1/5] END .....C=1000, degree=5, kernel=poly;, score=0.972 total time=   0.0s\n",
      "[CV 2/5] END .....C=1000, degree=5, kernel=poly;, score=0.965 total time=   0.0s\n",
      "[CV 3/5] END .....C=1000, degree=5, kernel=poly;, score=0.943 total time=   0.0s\n",
      "[CV 4/5] END .....C=1000, degree=5, kernel=poly;, score=0.961 total time=   0.0s\n",
      "[CV 5/5] END .....C=1000, degree=5, kernel=poly;, score=0.964 total time=   0.0s\n",
      "[CV 1/5] END .....C=1000, degree=6, kernel=poly;, score=0.972 total time=   0.0s\n",
      "[CV 2/5] END .....C=1000, degree=6, kernel=poly;, score=0.965 total time=   0.0s\n",
      "[CV 3/5] END .....C=1000, degree=6, kernel=poly;, score=0.943 total time=   0.0s\n",
      "[CV 4/5] END .....C=1000, degree=6, kernel=poly;, score=0.957 total time=   0.0s\n",
      "[CV 5/5] END .....C=1000, degree=6, kernel=poly;, score=0.964 total time=   0.0s\n",
      "[CV 1/5] END .....C=1000, degree=7, kernel=poly;, score=0.972 total time=   0.0s\n",
      "[CV 2/5] END .....C=1000, degree=7, kernel=poly;, score=0.965 total time=   0.0s\n",
      "[CV 3/5] END .....C=1000, degree=7, kernel=poly;, score=0.943 total time=   0.0s\n",
      "[CV 4/5] END .....C=1000, degree=7, kernel=poly;, score=0.957 total time=   0.0s\n",
      "[CV 5/5] END .....C=1000, degree=7, kernel=poly;, score=0.964 total time=   0.0s\n",
      "[CV 1/5] END .....C=1000, degree=8, kernel=poly;, score=0.972 total time=   0.0s\n",
      "[CV 2/5] END .....C=1000, degree=8, kernel=poly;, score=0.961 total time=   0.0s\n",
      "[CV 3/5] END .....C=1000, degree=8, kernel=poly;, score=0.943 total time=   0.0s\n",
      "[CV 4/5] END .....C=1000, degree=8, kernel=poly;, score=0.957 total time=   0.0s\n",
      "[CV 5/5] END .....C=1000, degree=8, kernel=poly;, score=0.961 total time=   0.0s\n",
      "[CV 1/5] END .....C=1000, degree=9, kernel=poly;, score=0.972 total time=   0.0s\n",
      "[CV 2/5] END .....C=1000, degree=9, kernel=poly;, score=0.961 total time=   0.0s\n",
      "[CV 3/5] END .....C=1000, degree=9, kernel=poly;, score=0.943 total time=   0.0s\n",
      "[CV 4/5] END .....C=1000, degree=9, kernel=poly;, score=0.957 total time=   0.0s\n",
      "[CV 5/5] END .....C=1000, degree=9, kernel=poly;, score=0.957 total time=   0.0s\n",
      "[CV 1/5] END ....C=1000, degree=10, kernel=poly;, score=0.972 total time=   0.0s\n",
      "[CV 2/5] END ....C=1000, degree=10, kernel=poly;, score=0.961 total time=   0.0s\n",
      "[CV 3/5] END ....C=1000, degree=10, kernel=poly;, score=0.943 total time=   0.0s\n",
      "[CV 4/5] END ....C=1000, degree=10, kernel=poly;, score=0.957 total time=   0.0s\n",
      "[CV 5/5] END ....C=1000, degree=10, kernel=poly;, score=0.957 total time=   0.0s\n",
      "SVM {i} Params and Accuracy:\n",
      "{'C': 1, 'degree': 1, 'kernel': 'poly'}\n",
      "SVC(C=1, degree=1, kernel='poly')\n",
      "\n",
      "\n"
     ]
    }
   ],
   "source": [
    "from sklearn.utils.fixes import loguniform\n",
    "\n",
    "param_grid = [\n",
    "#   {'C': [1,10,100,1000], 'kernel': ['linear']},\n",
    "#   {'C': [1,10,100,1000], 'gamma': [0.001, 0.0001], 'kernel': ['rbf']},\n",
    "  {'C': [1,10,100,1000], 'degree': [1,2,3,4,5,6,7,8,9,10], 'kernel': ['poly']},\n",
    " ]\n",
    "\n",
    "grid = GridSearchCV(SVC(), param_grid, refit = True, verbose = 3)\n",
    "grid.fit(trainEnsemblePreds,trainFeatures.labels)\n",
    "print(\"SVM {i} Params and Accuracy:\")\n",
    "print(grid.best_params_)\n",
    "print(grid.best_estimator_)\n",
    "print(\"\\n\")"
   ]
  },
  {
   "cell_type": "code",
   "execution_count": 79,
   "metadata": {},
   "outputs": [],
   "source": [
    "deciderSVM = SVC(C=1, degree=1, kernel='poly').fit(trainEnsemblePreds,trainFeatures.labels)\n",
    "\n"
   ]
  },
  {
   "cell_type": "code",
   "execution_count": 81,
   "metadata": {},
   "outputs": [
    {
     "name": "stdout",
     "output_type": "stream",
     "text": [
      "Accuracy is: 89.10891089108911 %\n"
     ]
    }
   ],
   "source": [
    "y_preds = deciderSVM.predict(testEnsemblePreds)\n",
    "print(f'Accuracy is: {accuracy_score(testFeatures.labels,y_preds)*100} %')"
   ]
  },
  {
   "cell_type": "markdown",
   "metadata": {},
   "source": [
    "# Hardvoting"
   ]
  },
  {
   "cell_type": "code",
   "execution_count": 56,
   "metadata": {},
   "outputs": [],
   "source": [
    "def hardVoting(Preds,Actual):\n",
    "    hvScore = 0\n",
    "    for i in range(len(Preds)):\n",
    "        \n",
    "        classCounter = 0\n",
    "        for j in Preds[i]:\n",
    "            if j ==1:\n",
    "                classCounter+=1\n",
    "        \n",
    "        if classCounter>4:\n",
    "            predicted = 1\n",
    "        else:\n",
    "            predicted = 0\n",
    "\n",
    "        if Actual[i] == predicted:\n",
    "            hvScore+=1\n",
    "    return hvScore/len(Preds)\n",
    "        "
   ]
  },
  {
   "cell_type": "code",
   "execution_count": 86,
   "metadata": {},
   "outputs": [],
   "source": [
    "acc = hardVoting(testEnsemblePreds,testFeatures.labels)"
   ]
  },
  {
   "cell_type": "code",
   "execution_count": 87,
   "metadata": {},
   "outputs": [
    {
     "data": {
      "text/plain": [
       "0.8811881188118812"
      ]
     },
     "execution_count": 87,
     "metadata": {},
     "output_type": "execute_result"
    }
   ],
   "source": [
    "acc"
   ]
  },
  {
   "cell_type": "code",
   "execution_count": null,
   "metadata": {},
   "outputs": [],
   "source": []
  }
 ],
 "metadata": {
  "interpreter": {
   "hash": "59a0a655608065d3cae818a692331e53ebb08743a1f5b6e8817ade25a17588c1"
  },
  "kernelspec": {
   "display_name": "Python 3.9.10 64-bit ('tfworking': conda)",
   "language": "python",
   "name": "python3"
  },
  "language_info": {
   "codemirror_mode": {
    "name": "ipython",
    "version": 3
   },
   "file_extension": ".py",
   "mimetype": "text/x-python",
   "name": "python",
   "nbconvert_exporter": "python",
   "pygments_lexer": "ipython3",
   "version": "3.9.10"
  },
  "orig_nbformat": 4
 },
 "nbformat": 4,
 "nbformat_minor": 2
}
