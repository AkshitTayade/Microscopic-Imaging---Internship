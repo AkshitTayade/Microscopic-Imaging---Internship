{
 "cells": [
  {
   "cell_type": "markdown",
   "metadata": {},
   "source": [
    "# Imports"
   ]
  },
  {
   "cell_type": "code",
   "execution_count": 116,
   "metadata": {},
   "outputs": [],
   "source": [
    "import os\n",
    "import cv2\n",
    "import tensorflow as tf\n",
    "import numpy as np\n",
    "import matplotlib.pyplot as plt\n",
    "from keras.layers import Flatten\n",
    "import json\n",
    "\n",
    "from sklearn.svm import SVC\n",
    "from sklearn.metrics import accuracy_score\n",
    "from sklearn.model_selection import GridSearchCV\n",
    "\n"
   ]
  },
  {
   "cell_type": "markdown",
   "metadata": {},
   "source": [
    "# Feature Extractor"
   ]
  },
  {
   "cell_type": "code",
   "execution_count": 92,
   "metadata": {},
   "outputs": [],
   "source": [
    "class dataGenerator:\n",
    "    def __init__(self,basePath,subPath) -> None:\n",
    "        self.basePath = basePath\n",
    "        self.subPath = subPath\n",
    "        self.subset = []\n",
    "        print(self.basePath,self.subPath)\n",
    "\n",
    "        self.listAppend()\n",
    "\n",
    "    def listAppend(self):\n",
    "        classes = os.listdir(self.basePath+self.subPath)\n",
    "        print(classes)\n",
    "\n",
    "        classCounter = 0\n",
    "\n",
    "        for i in classes:\n",
    "            imagePaths = os.listdir(self.basePath+self.subPath+f'/{i}/fullsized')\n",
    "            temp = []\n",
    "            for image in imagePaths:\n",
    "                temp.append([f\"{classCounter}\",self.basePath+self.subPath+ f'/{i}'  '/fullsized' +  f'/{image}'])\n",
    "                # print(image)\n",
    "            classCounter+=1\n",
    "            self.subset += temp\n",
    "    \n",
    "    def shuffler(self):\n",
    "        np.random.seed(0)\n",
    "        npsubSet = np.array(self.subset)\n",
    "        np.random.shuffle(npsubSet)\n",
    "        return npsubSet"
   ]
  },
  {
   "cell_type": "code",
   "execution_count": 95,
   "metadata": {},
   "outputs": [],
   "source": [
    "# os.remove('All_200X/val/.DS_Store')\n",
    "os.remove('All_200X/train/.DS_Store')\n",
    "# os.remove('All_200X/test/.DS_Store')"
   ]
  },
  {
   "cell_type": "code",
   "execution_count": 96,
   "metadata": {},
   "outputs": [
    {
     "name": "stdout",
     "output_type": "stream",
     "text": [
      "All_200X /train\n",
      "['malignant', 'benign']\n",
      "All_200X /test\n",
      "['malignant', 'benign']\n",
      "All_200X /val\n",
      "['malignant', 'benign']\n"
     ]
    }
   ],
   "source": [
    "traindatagen = dataGenerator('All_200X','/train')\n",
    "trainData = traindatagen.shuffler()\n",
    "\n",
    "testdatagen = dataGenerator('All_200X','/test')\n",
    "testData = testdatagen.shuffler()\n",
    "\n",
    "valdatagen = dataGenerator('All_200X','/val')\n",
    "valData = valdatagen.shuffler()"
   ]
  },
  {
   "cell_type": "code",
   "execution_count": 98,
   "metadata": {},
   "outputs": [],
   "source": [
    "class FeatureExtractor:\n",
    "    def __init__(self,dataset) -> None:\n",
    "        self.base_model = tf.keras.applications.VGG19(input_shape=(150,150,3),\n",
    "                                               include_top=False,\n",
    "                                               weights='imagenet')\n",
    "        # print(dataset)\n",
    "        self.dataset = dataset       \n",
    "        self.extractedFeatures = []    \n",
    "        self.imagePaths = []\n",
    "        self.labels = []\n",
    "\n",
    "        for i in dataset:\n",
    "            self.labels.append(int(i[0]))\n",
    "            self.imagePaths.append(i[1])\n",
    "        \n",
    "        self.featureCreator()\n",
    "\n",
    "\n",
    "    def featureCreator(self):\n",
    "        for i in self.imagePaths:\n",
    "            \n",
    "            slicedImages = self.slicer(i)\n",
    "\n",
    "            currentExtractedFeatures = []\n",
    "\n",
    "            for image in slicedImages:\n",
    "                currentExtractedFeatures.append(self.featureExtractor(image).numpy())\n",
    "\n",
    "            self.extractedFeatures.append(currentExtractedFeatures)\n",
    "\n",
    "\n",
    "\n",
    "    def slicer(self,imagePath):\n",
    "        img = plt.imread(imagePath)\n",
    "        h, w = img.shape[:2]\n",
    "        ls = []\n",
    "        for i in range(3):\n",
    "            roi3 = img[:, int(w*i/3): int(w/3) + int(w*i/3)]\n",
    "            # plt.imshow(roi)\n",
    "            for j in range(3):\n",
    "                roi9 = roi3[int(h*j/3): int(h/3) + int(h*j/3), :]\n",
    "                ls.append(roi9)\n",
    "        return ls                    \n",
    "                                                       \n",
    "    def preProcessor(self,img):\n",
    "        img = cv2.resize(img,(150,150))\n",
    "        imgx = np.expand_dims(img, axis=0)\n",
    "        return imgx                                        \n",
    "    \n",
    "    def featureExtractor(self,image):\n",
    "        feature = self.base_model(self.preProcessor(image))\n",
    "        flattened = Flatten()(feature)\n",
    "        # print(feature.shape,flattened.shape)\n",
    "        return flattened"
   ]
  },
  {
   "cell_type": "code",
   "execution_count": 99,
   "metadata": {},
   "outputs": [],
   "source": [
    "valFeatures = FeatureExtractor(valData)"
   ]
  },
  {
   "cell_type": "code",
   "execution_count": 100,
   "metadata": {},
   "outputs": [],
   "source": [
    "trainFeatures = FeatureExtractor(trainData)"
   ]
  },
  {
   "cell_type": "code",
   "execution_count": 101,
   "metadata": {},
   "outputs": [],
   "source": [
    "testFeatures = FeatureExtractor(testData)"
   ]
  },
  {
   "cell_type": "markdown",
   "metadata": {},
   "source": [
    "# SVM Training"
   ]
  },
  {
   "cell_type": "code",
   "execution_count": 184,
   "metadata": {},
   "outputs": [],
   "source": [
    "def featureScaler(feature):\n",
    "\n",
    "    maxVal = max(feature)\n",
    "    minVal = min(feature)\n",
    "\n",
    "    dezmin = 0\n",
    "    dezmax = 1\n",
    "\n",
    "    scaledFeatures =  []\n",
    "    for i in feature:\n",
    "        scaled = (    (   (i - minVal)/(maxVal-minVal)  ) /   (dezmax-dezmin)    ) + dezmin\n",
    "        scaledFeatures.append(scaled)\n",
    "\n",
    "    return np.array(scaledFeatures)"
   ]
  },
  {
   "cell_type": "code",
   "execution_count": 185,
   "metadata": {},
   "outputs": [],
   "source": [
    "def SVMDataPreProc(subset):\n",
    "    subset\n",
    "    slicedDataset = []\n",
    "    for j in range(9):\n",
    "            temp = []\n",
    "            for i in subset:\n",
    "                temp.append(featureScaler(i[j][0]))\n",
    "\n",
    "            slicedDataset.append(temp)\n",
    "    return slicedDataset"
   ]
  },
  {
   "cell_type": "code",
   "execution_count": 193,
   "metadata": {},
   "outputs": [],
   "source": [
    "SVMValData = SVMDataPreProc(valFeatures.extractedFeatures)\n",
    "SVMTrainData = SVMDataPreProc(trainFeatures.extractedFeatures)\n",
    "SVMTestData = SVMDataPreProc(testFeatures.extractedFeatures)"
   ]
  },
  {
   "cell_type": "code",
   "execution_count": 204,
   "metadata": {},
   "outputs": [],
   "source": [
    "class multiSVM:\n",
    "    def __init__(self,Xtrain,yTrain,Xtest,yTest) -> None:\n",
    "        self.clfs = []\n",
    "        \n",
    "        self.Xtrain = Xtrain\n",
    "        self.yTrain = yTrain\n",
    "        self.Xtest = Xtest\n",
    "        self.yTest = yTest\n",
    "\n",
    "\n",
    "        self.scores = []\n",
    "\n",
    "    def modelCreator(self):\n",
    "        for i in range(9):\n",
    "            self.clfs.append(SVC(kernel='poly', C=6).fit(self.Xtrain[i],self.yTrain))\n",
    "\n",
    "    def estimator(self):\n",
    "        for i in range(9):\n",
    "            y_preds = self.clfs[i].predict(self.Xtest[i])\n",
    "            self.scores.append(accuracy_score(self.yTest,y_preds))"
   ]
  },
  {
   "cell_type": "code",
   "execution_count": 205,
   "metadata": {},
   "outputs": [],
   "source": [
    "ensembleSVM = multiSVM(SVMTrainData,trainFeatures.labels,SVMTestData,testFeatures.labels)"
   ]
  },
  {
   "cell_type": "code",
   "execution_count": 206,
   "metadata": {},
   "outputs": [],
   "source": [
    "ensembleSVM.modelCreator()"
   ]
  },
  {
   "cell_type": "code",
   "execution_count": 207,
   "metadata": {},
   "outputs": [
    {
     "name": "stdout",
     "output_type": "stream",
     "text": [
      "[0.8481848184818482, 0.8415841584158416, 0.8382838283828383, 0.834983498349835, 0.8085808580858086, 0.8217821782178217, 0.8415841584158416, 0.834983498349835, 0.8448844884488449]\n"
     ]
    }
   ],
   "source": [
    "ensembleSVM.estimator()\n",
    "print(ensembleSVM.scores)"
   ]
  },
  {
   "cell_type": "code",
   "execution_count": 217,
   "metadata": {},
   "outputs": [],
   "source": [
    "class MultiSVMPredictor:\n",
    "    def __init__(self,X,y,classifiers) -> None:\n",
    "        self.X = X\n",
    "        self.y = y\n",
    "        self.classifiers = classifiers\n",
    "        self.preds = []\n",
    "\n",
    "        self.prediction()\n",
    "    \n",
    "    def prediction(self):\n",
    "        for i in range(9):\n",
    "            self.preds.append(self.classifiers[i].predict(self.X[i]))"
   ]
  },
  {
   "cell_type": "code",
   "execution_count": 218,
   "metadata": {},
   "outputs": [],
   "source": [
    "mpred = MultiSVMPredictor(SVMTestData,testFeatures.labels,ensembleSVM.clfs)"
   ]
  },
  {
   "cell_type": "code",
   "execution_count": 221,
   "metadata": {},
   "outputs": [],
   "source": [
    "def hardVoting(Preds,Actual):\n",
    "    for i in range(9):\n",
    "        for j in Preds:\n",
    "            print(j[i])"
   ]
  }
 ],
 "metadata": {
  "interpreter": {
   "hash": "59a0a655608065d3cae818a692331e53ebb08743a1f5b6e8817ade25a17588c1"
  },
  "kernelspec": {
   "display_name": "Python 3.9.10 64-bit ('tfworking': conda)",
   "language": "python",
   "name": "python3"
  },
  "language_info": {
   "codemirror_mode": {
    "name": "ipython",
    "version": 3
   },
   "file_extension": ".py",
   "mimetype": "text/x-python",
   "name": "python",
   "nbconvert_exporter": "python",
   "pygments_lexer": "ipython3",
   "version": "3.9.10"
  },
  "orig_nbformat": 4
 },
 "nbformat": 4,
 "nbformat_minor": 2
}
