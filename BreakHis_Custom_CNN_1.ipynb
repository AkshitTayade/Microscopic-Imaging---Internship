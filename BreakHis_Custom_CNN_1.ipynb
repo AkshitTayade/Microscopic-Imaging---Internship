{
  "nbformat": 4,
  "nbformat_minor": 0,
  "metadata": {
    "colab": {
      "name": "BreakHis.ipynb",
      "provenance": [],
      "collapsed_sections": []
    },
    "kernelspec": {
      "name": "python3",
      "display_name": "Python 3"
    },
    "language_info": {
      "name": "python"
    },
    "accelerator": "GPU"
  },
  "cells": [
    {
      "cell_type": "code",
      "source": [
        "from google.colab import drive\n",
        "drive.mount('/content/drive')"
      ],
      "metadata": {
        "id": "ve80YnNJILJd",
        "colab": {
          "base_uri": "https://localhost:8080/"
        },
        "outputId": "8b8c71c1-d423-43f7-f7e2-922e15e3c0cb"
      },
      "execution_count": null,
      "outputs": [
        {
          "output_type": "stream",
          "name": "stdout",
          "text": [
            "Drive already mounted at /content/drive; to attempt to forcibly remount, call drive.mount(\"/content/drive\", force_remount=True).\n"
          ]
        }
      ]
    },
    {
      "cell_type": "code",
      "source": [
        "import os\n",
        "# import cv2\n",
        "import numpy as np\n",
        "import matplotlib.pyplot as plt\n",
        "from keras.models import Sequential\n",
        "from keras.layers import Flatten, Dense, MaxPooling2D, BatchNormalization, Dropout, Conv2D\n",
        "from keras.preprocessing.image import ImageDataGenerator, load_img, img_to_array\n",
        "from keras.callbacks import EarlyStopping\n",
        "from keras.models import load_model\n",
        "import tensorflow as tf"
      ],
      "metadata": {
        "id": "DaIBszyXLwv6"
      },
      "execution_count": null,
      "outputs": []
    },
    {
      "cell_type": "code",
      "source": [
        "train = ImageDataGenerator(validation_split=0.2)\n",
        "base_path = \"/content/drive/MyDrive/breast\""
      ],
      "metadata": {
        "id": "xcpo544SJujt"
      },
      "execution_count": null,
      "outputs": []
    },
    {
      "cell_type": "code",
      "source": [
        "training_data = train.flow_from_directory(base_path,\n",
        "                                          target_size=(150, 150),\n",
        "                                          class_mode='binary',\n",
        "                                          color_mode=\"grayscale\",\n",
        "                                          batch_size=64,\n",
        "                                          subset=\"training\")"
      ],
      "metadata": {
        "id": "wbUyrdtUMVHw",
        "colab": {
          "base_uri": "https://localhost:8080/"
        },
        "outputId": "0793a406-b2cb-430d-98b8-6480a90aaab8"
      },
      "execution_count": null,
      "outputs": [
        {
          "output_type": "stream",
          "name": "stdout",
          "text": [
            "Found 6328 images belonging to 2 classes.\n"
          ]
        }
      ]
    },
    {
      "cell_type": "code",
      "source": [
        "validation_data = train.flow_from_directory(base_path,\n",
        "                                          target_size=(150, 150),\n",
        "                                          class_mode='binary',  \n",
        "                                          color_mode=\"grayscale\",\n",
        "                                          batch_size=64,\n",
        "                                          subset=\"validation\")"
      ],
      "metadata": {
        "id": "dg7Fyk44MeVx",
        "colab": {
          "base_uri": "https://localhost:8080/"
        },
        "outputId": "c43730c7-0896-4f09-fce9-d772b86bc996"
      },
      "execution_count": null,
      "outputs": [
        {
          "output_type": "stream",
          "name": "stdout",
          "text": [
            "Found 1581 images belonging to 2 classes.\n"
          ]
        }
      ]
    },
    {
      "cell_type": "code",
      "source": [
        "training_data.class_indices"
      ],
      "metadata": {
        "id": "hSsm9gN_MeTZ",
        "colab": {
          "base_uri": "https://localhost:8080/"
        },
        "outputId": "c1f3a9e3-2342-495b-c3f4-575eee1e9a81"
      },
      "execution_count": null,
      "outputs": [
        {
          "output_type": "execute_result",
          "data": {
            "text/plain": [
              "{'benign': 0, 'malignant': 1}"
            ]
          },
          "metadata": {},
          "execution_count": 6
        }
      ]
    },
    {
      "cell_type": "code",
      "source": [
        "model = Sequential()"
      ],
      "metadata": {
        "id": "TLSdOs6fMeQ3"
      },
      "execution_count": null,
      "outputs": []
    },
    {
      "cell_type": "code",
      "source": [
        "model.add(Conv2D(32 , (3,3) , strides = 1 , padding = 'same' , activation = 'relu' , input_shape = (150,150,1)))\n",
        "model.add(BatchNormalization())\n",
        "model.add(MaxPooling2D((2,2) , strides = 2 , padding = 'same'))\n",
        "model.add(Conv2D(64 , (3,3) , strides = 1 , padding = 'same' , activation = 'relu'))\n",
        "model.add(Dropout(0.1))\n",
        "model.add(BatchNormalization())\n",
        "model.add(MaxPooling2D((2,2) , strides = 2 , padding = 'same'))\n",
        "model.add(Conv2D(64 , (3,3) , strides = 1 , padding = 'same' , activation = 'relu'))\n",
        "model.add(BatchNormalization())\n",
        "model.add(MaxPooling2D((2,2) , strides = 2 , padding = 'same'))\n",
        "model.add(Conv2D(128 , (3,3) , strides = 1 , padding = 'same' , activation = 'relu'))\n",
        "model.add(Dropout(0.2))\n",
        "model.add(BatchNormalization())\n",
        "model.add(MaxPooling2D((2,2) , strides = 2 , padding = 'same'))\n",
        "model.add(Conv2D(256 , (3,3) , strides = 1 , padding = 'same' , activation = 'relu'))\n",
        "model.add(Dropout(0.2))\n",
        "model.add(BatchNormalization())\n",
        "model.add(MaxPooling2D((2,2) , strides = 2 , padding = 'same'))\n",
        "model.add(Flatten())\n",
        "model.add(Dense(units = 128 , activation = 'relu'))\n",
        "model.add(Dropout(0.2))\n",
        "model.add(Dense(units = 1 , activation = 'sigmoid'))"
      ],
      "metadata": {
        "id": "qVrrnfuuMeOI"
      },
      "execution_count": null,
      "outputs": []
    },
    {
      "cell_type": "code",
      "source": [
        "model.compile(\n",
        "    optimizer=\"adam\",\n",
        "    loss=\"binary_crossentropy\",\n",
        "    metrics=['accuracy']\n",
        ")"
      ],
      "metadata": {
        "id": "Bkz4A3HFNb5E"
      },
      "execution_count": null,
      "outputs": []
    },
    {
      "cell_type": "code",
      "source": [
        "from keras.callbacks import ReduceLROnPlateau,EarlyStopping,ModelCheckpoint\n",
        "model_checkpoint = ModelCheckpoint('/content/drive/MyDrive/Internship/AI Medical Internship - Microscopic/model_weights/cancerBreakHis_{epoch:02d}-{val_accuracy:.6f}.h5', \n",
        "                                   monitor='accuracy', \n",
        "                                   mode='min', \n",
        "                                   verbose=1, \n",
        "                                   save_best_only=True,\n",
        "                                   save_weights_only=True)\n"
      ],
      "metadata": {
        "id": "x6csmVSjNb2k"
      },
      "execution_count": null,
      "outputs": []
    },
    {
      "cell_type": "code",
      "source": [
        "early_stopping = tf.keras.callbacks.EarlyStopping(monitor=\"accuracy\",patience=5)"
      ],
      "metadata": {
        "id": "Kb70ouNWN-ms"
      },
      "execution_count": null,
      "outputs": []
    },
    {
      "cell_type": "code",
      "source": [
        "history = model.fit_generator(\n",
        "        generator=training_data,\n",
        "        epochs=20,\n",
        "        steps_per_epoch=len(training_data),\n",
        "        validation_steps=len(validation_data),\n",
        "        validation_data=validation_data,\n",
        "        callbacks = [early_stopping,model_checkpoint]\n",
        "        )"
      ],
      "metadata": {
        "id": "WKSDv5wVNb0T",
        "colab": {
          "base_uri": "https://localhost:8080/"
        },
        "outputId": "56c1b452-1e17-4060-c538-623a2545632d"
      },
      "execution_count": null,
      "outputs": [
        {
          "output_type": "stream",
          "name": "stderr",
          "text": [
            "/usr/local/lib/python3.7/dist-packages/ipykernel_launcher.py:7: UserWarning: `Model.fit_generator` is deprecated and will be removed in a future version. Please use `Model.fit`, which supports generators.\n",
            "  import sys\n"
          ]
        },
        {
          "output_type": "stream",
          "name": "stdout",
          "text": [
            "Epoch 1/20\n",
            "99/99 [==============================] - ETA: 0s - loss: 0.7232 - accuracy: 0.6716\n",
            "Epoch 00001: accuracy improved from inf to 0.67162, saving model to /content/drive/MyDrive/Internship/AI Medical Internship - Microscopic/model_weights/cancerBreakHis_01-0.686275.h5\n",
            "99/99 [==============================] - 151s 1s/step - loss: 0.7232 - accuracy: 0.6716 - val_loss: 0.6845 - val_accuracy: 0.6863\n",
            "Epoch 2/20\n",
            "99/99 [==============================] - ETA: 0s - loss: 0.5460 - accuracy: 0.6865\n",
            "Epoch 00002: accuracy did not improve from 0.67162\n",
            "99/99 [==============================] - 144s 1s/step - loss: 0.5460 - accuracy: 0.6865 - val_loss: 0.6720 - val_accuracy: 0.6863\n",
            "Epoch 3/20\n",
            "99/99 [==============================] - ETA: 0s - loss: 0.5098 - accuracy: 0.7005\n",
            "Epoch 00003: accuracy did not improve from 0.67162\n",
            "99/99 [==============================] - 140s 1s/step - loss: 0.5098 - accuracy: 0.7005 - val_loss: 1.1080 - val_accuracy: 0.6844\n",
            "Epoch 4/20\n",
            "99/99 [==============================] - ETA: 0s - loss: 0.4860 - accuracy: 0.7645\n",
            "Epoch 00004: accuracy did not improve from 0.67162\n",
            "99/99 [==============================] - 138s 1s/step - loss: 0.4860 - accuracy: 0.7645 - val_loss: 1.8138 - val_accuracy: 0.6755\n",
            "Epoch 5/20\n",
            "99/99 [==============================] - ETA: 0s - loss: 0.4658 - accuracy: 0.7698\n",
            "Epoch 00005: accuracy did not improve from 0.67162\n",
            "99/99 [==============================] - 137s 1s/step - loss: 0.4658 - accuracy: 0.7698 - val_loss: 1.5133 - val_accuracy: 0.6787\n",
            "Epoch 6/20\n",
            "99/99 [==============================] - ETA: 0s - loss: 0.4406 - accuracy: 0.7728\n",
            "Epoch 00006: accuracy did not improve from 0.67162\n",
            "99/99 [==============================] - 146s 1s/step - loss: 0.4406 - accuracy: 0.7728 - val_loss: 3.8755 - val_accuracy: 0.6989\n",
            "Epoch 7/20\n",
            "99/99 [==============================] - ETA: 0s - loss: 0.4303 - accuracy: 0.7802\n",
            "Epoch 00007: accuracy did not improve from 0.67162\n",
            "99/99 [==============================] - 146s 1s/step - loss: 0.4303 - accuracy: 0.7802 - val_loss: 1.7888 - val_accuracy: 0.6818\n",
            "Epoch 8/20\n",
            "99/99 [==============================] - ETA: 0s - loss: 0.4007 - accuracy: 0.7985\n",
            "Epoch 00008: accuracy did not improve from 0.67162\n",
            "99/99 [==============================] - 142s 1s/step - loss: 0.4007 - accuracy: 0.7985 - val_loss: 1.1945 - val_accuracy: 0.7040\n",
            "Epoch 9/20\n",
            "99/99 [==============================] - ETA: 0s - loss: 0.3785 - accuracy: 0.8167\n",
            "Epoch 00009: accuracy did not improve from 0.67162\n",
            "99/99 [==============================] - 142s 1s/step - loss: 0.3785 - accuracy: 0.8167 - val_loss: 1.0488 - val_accuracy: 0.6762\n",
            "Epoch 10/20\n",
            "99/99 [==============================] - ETA: 0s - loss: 0.3709 - accuracy: 0.8255\n",
            "Epoch 00010: accuracy did not improve from 0.67162\n",
            "99/99 [==============================] - 141s 1s/step - loss: 0.3709 - accuracy: 0.8255 - val_loss: 2.0730 - val_accuracy: 0.6932\n",
            "Epoch 11/20\n",
            "99/99 [==============================] - ETA: 0s - loss: 0.3548 - accuracy: 0.8298\n",
            "Epoch 00011: accuracy did not improve from 0.67162\n",
            "99/99 [==============================] - 144s 1s/step - loss: 0.3548 - accuracy: 0.8298 - val_loss: 1.5997 - val_accuracy: 0.6913\n",
            "Epoch 12/20\n",
            "99/99 [==============================] - ETA: 0s - loss: 0.3349 - accuracy: 0.8409\n",
            "Epoch 00012: accuracy did not improve from 0.67162\n",
            "99/99 [==============================] - 147s 1s/step - loss: 0.3349 - accuracy: 0.8409 - val_loss: 0.6133 - val_accuracy: 0.6812\n",
            "Epoch 13/20\n",
            "99/99 [==============================] - ETA: 0s - loss: 0.3150 - accuracy: 0.8508\n",
            "Epoch 00013: accuracy did not improve from 0.67162\n",
            "99/99 [==============================] - 146s 1s/step - loss: 0.3150 - accuracy: 0.8508 - val_loss: 2.5595 - val_accuracy: 0.6825\n",
            "Epoch 14/20\n",
            "99/99 [==============================] - ETA: 0s - loss: 0.2802 - accuracy: 0.8717\n",
            "Epoch 00014: accuracy did not improve from 0.67162\n",
            "99/99 [==============================] - 147s 1s/step - loss: 0.2802 - accuracy: 0.8717 - val_loss: 1.0396 - val_accuracy: 0.5851\n",
            "Epoch 15/20\n",
            "99/99 [==============================] - ETA: 0s - loss: 0.2678 - accuracy: 0.8796\n",
            "Epoch 00015: accuracy did not improve from 0.67162\n",
            "99/99 [==============================] - 146s 1s/step - loss: 0.2678 - accuracy: 0.8796 - val_loss: 4.6279 - val_accuracy: 0.6863\n",
            "Epoch 16/20\n",
            "99/99 [==============================] - ETA: 0s - loss: 0.2500 - accuracy: 0.8857\n",
            "Epoch 00016: accuracy did not improve from 0.67162\n",
            "99/99 [==============================] - 147s 1s/step - loss: 0.2500 - accuracy: 0.8857 - val_loss: 1.0888 - val_accuracy: 0.4485\n",
            "Epoch 17/20\n",
            "99/99 [==============================] - ETA: 0s - loss: 0.2423 - accuracy: 0.8971\n",
            "Epoch 00017: accuracy did not improve from 0.67162\n",
            "99/99 [==============================] - 147s 1s/step - loss: 0.2423 - accuracy: 0.8971 - val_loss: 2.3639 - val_accuracy: 0.6768\n",
            "Epoch 18/20\n",
            "99/99 [==============================] - ETA: 0s - loss: 0.2049 - accuracy: 0.9095\n",
            "Epoch 00018: accuracy did not improve from 0.67162\n",
            "99/99 [==============================] - 146s 1s/step - loss: 0.2049 - accuracy: 0.9095 - val_loss: 2.0724 - val_accuracy: 0.6161\n",
            "Epoch 19/20\n",
            "99/99 [==============================] - ETA: 0s - loss: 0.1793 - accuracy: 0.9237\n",
            "Epoch 00019: accuracy did not improve from 0.67162\n",
            "99/99 [==============================] - 146s 1s/step - loss: 0.1793 - accuracy: 0.9237 - val_loss: 1.5952 - val_accuracy: 0.5661\n",
            "Epoch 20/20\n",
            "99/99 [==============================] - ETA: 0s - loss: 0.1640 - accuracy: 0.9308\n",
            "Epoch 00020: accuracy did not improve from 0.67162\n",
            "99/99 [==============================] - 146s 1s/step - loss: 0.1640 - accuracy: 0.9308 - val_loss: 6.8790 - val_accuracy: 0.6970\n"
          ]
        }
      ]
    },
    {
      "cell_type": "code",
      "source": [
        ""
      ],
      "metadata": {
        "id": "T2TZLh96Md-n"
      },
      "execution_count": null,
      "outputs": []
    }
  ]
}